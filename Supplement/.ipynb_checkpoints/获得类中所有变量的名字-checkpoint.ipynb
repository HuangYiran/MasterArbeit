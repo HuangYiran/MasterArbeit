{
 "cells": [
  {
   "cell_type": "code",
   "execution_count": 1,
   "metadata": {
    "collapsed": false
   },
   "outputs": [
    {
     "name": "stdout",
     "output_type": "stream",
     "text": [
      "url=http://www.sharejs.com\n",
      "title=share js code\n"
     ]
    }
   ],
   "source": [
    "class Site(object):\n",
    "    def __init__(self):\n",
    "        self.title = 'share js code'\n",
    "        self.url = 'http://www.sharejs.com'\n",
    "      \n",
    "    def list_all_member(self):\n",
    "        for name,value in vars(self).items():\n",
    "            print('%s=%s'%(name,value))\n",
    " \n",
    "if __name__== '__main__':\n",
    "    site = Site()\n",
    "    site.list_all_member()\n"
   ]
  },
  {
   "cell_type": "code",
   "execution_count": null,
   "metadata": {
    "collapsed": true
   },
   "outputs": [],
   "source": []
  }
 ],
 "metadata": {
  "kernelspec": {
   "display_name": "Py27",
   "language": "python",
   "name": "python2"
  },
  "language_info": {
   "codemirror_mode": {
    "name": "ipython",
    "version": 2
   },
   "file_extension": ".py",
   "mimetype": "text/x-python",
   "name": "python",
   "nbconvert_exporter": "python",
   "pygments_lexer": "ipython2",
   "version": "2.7.13"
  }
 },
 "nbformat": 4,
 "nbformat_minor": 2
}
