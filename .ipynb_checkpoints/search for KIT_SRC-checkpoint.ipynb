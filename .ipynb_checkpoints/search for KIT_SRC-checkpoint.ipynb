{
 "cells": [
  {
   "cell_type": "code",
   "execution_count": 1,
   "metadata": {
    "collapsed": true
   },
   "outputs": [],
   "source": [
    "import os"
   ]
  },
  {
   "cell_type": "code",
   "execution_count": 11,
   "metadata": {
    "collapsed": false
   },
   "outputs": [],
   "source": [
    "def checkExist(file):\n",
    "    with open(file) as fi:\n",
    "        for line in fi:\n",
    "            if \"KIT_SRC\" in line:\n",
    "                print(\"+++++++++\" + file)\n",
    "                break"
   ]
  },
  {
   "cell_type": "code",
   "execution_count": 12,
   "metadata": {
    "collapsed": false
   },
   "outputs": [
    {
     "name": "stdout",
     "output_type": "stream",
     "text": [
      "checking file: /Users/ihuangyiran/Documents/Workplace_Python/systemBuilder/src  .DS_Store\n",
      "checking file: /Users/ihuangyiran/Documents/Workplace_Python/systemBuilder/src  Command.py\n",
      "checking file: /Users/ihuangyiran/Documents/Workplace_Python/systemBuilder/src  Configuration.py\n",
      "checking file: /Users/ihuangyiran/Documents/Workplace_Python/systemBuilder/src  Configuration.pyc\n",
      "checking file: /Users/ihuangyiran/Documents/Workplace_Python/systemBuilder/src  Configuration.py~\n",
      "checking file: /Users/ihuangyiran/Documents/Workplace_Python/systemBuilder/src  Controll.py\n",
      "checking file: /Users/ihuangyiran/Documents/Workplace_Python/systemBuilder/src  Controll.pyc\n",
      "checking file: /Users/ihuangyiran/Documents/Workplace_Python/systemBuilder/src  Controll.py~\n",
      "checking file: /Users/ihuangyiran/Documents/Workplace_Python/systemBuilder/src  LTExport.py\n",
      "checking file: /Users/ihuangyiran/Documents/Workplace_Python/systemBuilder/src  LTExport.pyc\n",
      "checking file: /Users/ihuangyiran/Documents/Workplace_Python/systemBuilder/src  LTExport.py~\n",
      "checking file: /Users/ihuangyiran/Documents/Workplace_Python/systemBuilder/src  OutputController.py\n",
      "checking file: /Users/ihuangyiran/Documents/Workplace_Python/systemBuilder/src  OutputController.pyc\n",
      "checking file: /Users/ihuangyiran/Documents/Workplace_Python/systemBuilder/src  Rescore.py\n",
      "checking file: /Users/ihuangyiran/Documents/Workplace_Python/systemBuilder/src  Rescore.pyc\n",
      "checking file: /Users/ihuangyiran/Documents/Workplace_Python/systemBuilder/src  Rescore.py~\n",
      "checking file: /Users/ihuangyiran/Documents/Workplace_Python/systemBuilder/src  RescoreModel.py\n",
      "checking file: /Users/ihuangyiran/Documents/Workplace_Python/systemBuilder/src  RescoreModel.pyc\n",
      "checking file: /Users/ihuangyiran/Documents/Workplace_Python/systemBuilder/src  System.py\n",
      "+++++++++/Users/ihuangyiran/Documents/Workplace_Python/systemBuilder/src/System.py\n",
      "checking file: /Users/ihuangyiran/Documents/Workplace_Python/systemBuilder/src  System.pyc\n",
      "+++++++++/Users/ihuangyiran/Documents/Workplace_Python/systemBuilder/src/System.pyc\n",
      "checking file: /Users/ihuangyiran/Documents/Workplace_Python/systemBuilder/src  System.py~\n",
      "+++++++++/Users/ihuangyiran/Documents/Workplace_Python/systemBuilder/src/System.py~\n",
      "checking file: /Users/ihuangyiran/Documents/Workplace_Python/systemBuilder/src  systemBuilder.py\n",
      "checking file: /Users/ihuangyiran/Documents/Workplace_Python/systemBuilder/src/Components  #LexicalizedReordering.py#\n",
      "checking file: /Users/ihuangyiran/Documents/Workplace_Python/systemBuilder/src/Components  __init__.py\n",
      "checking file: /Users/ihuangyiran/Documents/Workplace_Python/systemBuilder/src/Components  __init__.pyc\n",
      "checking file: /Users/ihuangyiran/Documents/Workplace_Python/systemBuilder/src/Components  AdaptedPhrasetable.py\n",
      "checking file: /Users/ihuangyiran/Documents/Workplace_Python/systemBuilder/src/Components  AdaptedPhrasetable.pyc\n",
      "checking file: /Users/ihuangyiran/Documents/Workplace_Python/systemBuilder/src/Components  AdaptedPhrasetable.py~\n",
      "checking file: /Users/ihuangyiran/Documents/Workplace_Python/systemBuilder/src/Components  BilingualLM.py\n",
      "checking file: /Users/ihuangyiran/Documents/Workplace_Python/systemBuilder/src/Components  BilingualLM.pyc\n",
      "checking file: /Users/ihuangyiran/Documents/Workplace_Python/systemBuilder/src/Components  BilingualLM.py~\n",
      "checking file: /Users/ihuangyiran/Documents/Workplace_Python/systemBuilder/src/Components  BilingualLMPT.py\n",
      "checking file: /Users/ihuangyiran/Documents/Workplace_Python/systemBuilder/src/Components  BilingualLMPT.pyc\n",
      "checking file: /Users/ihuangyiran/Documents/Workplace_Python/systemBuilder/src/Components  BilingualLMPT.py~\n",
      "checking file: /Users/ihuangyiran/Documents/Workplace_Python/systemBuilder/src/Components  BPE.py\n",
      "checking file: /Users/ihuangyiran/Documents/Workplace_Python/systemBuilder/src/Components  BPE.pyc\n",
      "checking file: /Users/ihuangyiran/Documents/Workplace_Python/systemBuilder/src/Components  BPE.py~\n",
      "checking file: /Users/ihuangyiran/Documents/Workplace_Python/systemBuilder/src/Components  ClusterPT.py\n",
      "checking file: /Users/ihuangyiran/Documents/Workplace_Python/systemBuilder/src/Components  ClusterPT.pyc\n",
      "checking file: /Users/ihuangyiran/Documents/Workplace_Python/systemBuilder/src/Components  ClusterPT.py~\n",
      "checking file: /Users/ihuangyiran/Documents/Workplace_Python/systemBuilder/src/Components  CMUPTSubsample.py\n",
      "checking file: /Users/ihuangyiran/Documents/Workplace_Python/systemBuilder/src/Components  CMUPTSubsample.pyc\n",
      "checking file: /Users/ihuangyiran/Documents/Workplace_Python/systemBuilder/src/Components  CMUPTSubsample.py~\n",
      "checking file: /Users/ihuangyiran/Documents/Workplace_Python/systemBuilder/src/Components  DependencyParser.py\n",
      "checking file: /Users/ihuangyiran/Documents/Workplace_Python/systemBuilder/src/Components  DependencyParser.pyc\n",
      "checking file: /Users/ihuangyiran/Documents/Workplace_Python/systemBuilder/src/Components  DWA.py\n",
      "checking file: /Users/ihuangyiran/Documents/Workplace_Python/systemBuilder/src/Components  DWA.pyc\n",
      "checking file: /Users/ihuangyiran/Documents/Workplace_Python/systemBuilder/src/Components  DWA.py~\n",
      "checking file: /Users/ihuangyiran/Documents/Workplace_Python/systemBuilder/src/Components  DWL.py\n",
      "checking file: /Users/ihuangyiran/Documents/Workplace_Python/systemBuilder/src/Components  DWL.pyc\n",
      "checking file: /Users/ihuangyiran/Documents/Workplace_Python/systemBuilder/src/Components  DWL.py~\n",
      "checking file: /Users/ihuangyiran/Documents/Workplace_Python/systemBuilder/src/Components  File.py\n",
      "checking file: /Users/ihuangyiran/Documents/Workplace_Python/systemBuilder/src/Components  File.pyc\n",
      "checking file: /Users/ihuangyiran/Documents/Workplace_Python/systemBuilder/src/Components  File.py~\n",
      "checking file: /Users/ihuangyiran/Documents/Workplace_Python/systemBuilder/src/Components  FilterPunct.py\n",
      "checking file: /Users/ihuangyiran/Documents/Workplace_Python/systemBuilder/src/Components  FilterPunct.pyc\n",
      "checking file: /Users/ihuangyiran/Documents/Workplace_Python/systemBuilder/src/Components  Giza.py\n",
      "checking file: /Users/ihuangyiran/Documents/Workplace_Python/systemBuilder/src/Components  Giza.pyc\n",
      "checking file: /Users/ihuangyiran/Documents/Workplace_Python/systemBuilder/src/Components  Giza.py~\n",
      "checking file: /Users/ihuangyiran/Documents/Workplace_Python/systemBuilder/src/Components  KenLM.py\n",
      "checking file: /Users/ihuangyiran/Documents/Workplace_Python/systemBuilder/src/Components  KenLM.pyc\n",
      "checking file: /Users/ihuangyiran/Documents/Workplace_Python/systemBuilder/src/Components  KenLM.py~\n",
      "checking file: /Users/ihuangyiran/Documents/Workplace_Python/systemBuilder/src/Components  Languagemodel.py\n",
      "checking file: /Users/ihuangyiran/Documents/Workplace_Python/systemBuilder/src/Components  Languagemodel.pyc\n",
      "checking file: /Users/ihuangyiran/Documents/Workplace_Python/systemBuilder/src/Components  Languagemodel.py~\n",
      "checking file: /Users/ihuangyiran/Documents/Workplace_Python/systemBuilder/src/Components  lex-filter.py\n",
      "checking file: /Users/ihuangyiran/Documents/Workplace_Python/systemBuilder/src/Components  lexfilter.py\n",
      "checking file: /Users/ihuangyiran/Documents/Workplace_Python/systemBuilder/src/Components  lexfilter.pyc\n",
      "checking file: /Users/ihuangyiran/Documents/Workplace_Python/systemBuilder/src/Components  LexicalizedReordering.py\n",
      "checking file: /Users/ihuangyiran/Documents/Workplace_Python/systemBuilder/src/Components  LexicalizedReordering.pyc\n",
      "checking file: /Users/ihuangyiran/Documents/Workplace_Python/systemBuilder/src/Components  LIATagger.py\n",
      "checking file: /Users/ihuangyiran/Documents/Workplace_Python/systemBuilder/src/Components  LIATagger.pyc\n",
      "checking file: /Users/ihuangyiran/Documents/Workplace_Python/systemBuilder/src/Components  LinearCombinationLM.py\n",
      "checking file: /Users/ihuangyiran/Documents/Workplace_Python/systemBuilder/src/Components  LinearCombinationLM.pyc\n",
      "checking file: /Users/ihuangyiran/Documents/Workplace_Python/systemBuilder/src/Components  LinearCombinationLM.py~\n",
      "checking file: /Users/ihuangyiran/Documents/Workplace_Python/systemBuilder/src/Components  LMDataSelection.py\n",
      "checking file: /Users/ihuangyiran/Documents/Workplace_Python/systemBuilder/src/Components  LMDataSelection.pyc\n",
      "checking file: /Users/ihuangyiran/Documents/Workplace_Python/systemBuilder/src/Components  LMDataSelection.py~\n",
      "checking file: /Users/ihuangyiran/Documents/Workplace_Python/systemBuilder/src/Components  MFTagger.py\n",
      "checking file: /Users/ihuangyiran/Documents/Workplace_Python/systemBuilder/src/Components  MFTagger.pyc\n",
      "checking file: /Users/ihuangyiran/Documents/Workplace_Python/systemBuilder/src/Components  MKCLS.py\n",
      "checking file: /Users/ihuangyiran/Documents/Workplace_Python/systemBuilder/src/Components  MKCLS.pyc\n",
      "checking file: /Users/ihuangyiran/Documents/Workplace_Python/systemBuilder/src/Components  MKCLS.py~\n",
      "checking file: /Users/ihuangyiran/Documents/Workplace_Python/systemBuilder/src/Components  Model.py\n",
      "checking file: /Users/ihuangyiran/Documents/Workplace_Python/systemBuilder/src/Components  Model.pyc\n",
      "checking file: /Users/ihuangyiran/Documents/Workplace_Python/systemBuilder/src/Components  MorphOperation.py\n",
      "checking file: /Users/ihuangyiran/Documents/Workplace_Python/systemBuilder/src/Components  MorphOperation.pyc\n",
      "checking file: /Users/ihuangyiran/Documents/Workplace_Python/systemBuilder/src/Components  MorphOperation.py~\n",
      "checking file: /Users/ihuangyiran/Documents/Workplace_Python/systemBuilder/src/Components  MorphOpPT.py\n",
      "checking file: /Users/ihuangyiran/Documents/Workplace_Python/systemBuilder/src/Components  MorphOpPT.pyc\n",
      "checking file: /Users/ihuangyiran/Documents/Workplace_Python/systemBuilder/src/Components  MorphOpPT.py~\n",
      "checking file: /Users/ihuangyiran/Documents/Workplace_Python/systemBuilder/src/Components  OOV.py\n",
      "checking file: /Users/ihuangyiran/Documents/Workplace_Python/systemBuilder/src/Components  OOV.pyc\n",
      "checking file: /Users/ihuangyiran/Documents/Workplace_Python/systemBuilder/src/Components  OOV.py~\n",
      "checking file: /Users/ihuangyiran/Documents/Workplace_Python/systemBuilder/src/Components  Phrasetable.py\n",
      "checking file: /Users/ihuangyiran/Documents/Workplace_Python/systemBuilder/src/Components  Phrasetable.pyc\n",
      "checking file: /Users/ihuangyiran/Documents/Workplace_Python/systemBuilder/src/Components  Phrasetable.py~\n",
      "checking file: /Users/ihuangyiran/Documents/Workplace_Python/systemBuilder/src/Components  POSPhrasetable.py\n",
      "checking file: /Users/ihuangyiran/Documents/Workplace_Python/systemBuilder/src/Components  POSPhrasetable.pyc\n",
      "checking file: /Users/ihuangyiran/Documents/Workplace_Python/systemBuilder/src/Components  POSPhrasetable.py~\n",
      "checking file: /Users/ihuangyiran/Documents/Workplace_Python/systemBuilder/src/Components  Preprocessor.py\n",
      "checking file: /Users/ihuangyiran/Documents/Workplace_Python/systemBuilder/src/Components  Preprocessor.py.save\n",
      "checking file: /Users/ihuangyiran/Documents/Workplace_Python/systemBuilder/src/Components  Preprocessor.pyc\n",
      "checking file: /Users/ihuangyiran/Documents/Workplace_Python/systemBuilder/src/Components  Preprocessor.py~\n",
      "checking file: /Users/ihuangyiran/Documents/Workplace_Python/systemBuilder/src/Components  RBMLM.py\n",
      "+++++++++/Users/ihuangyiran/Documents/Workplace_Python/systemBuilder/src/Components/RBMLM.py\n",
      "checking file: /Users/ihuangyiran/Documents/Workplace_Python/systemBuilder/src/Components  RBMLM.pyc\n",
      "+++++++++/Users/ihuangyiran/Documents/Workplace_Python/systemBuilder/src/Components/RBMLM.pyc\n",
      "checking file: /Users/ihuangyiran/Documents/Workplace_Python/systemBuilder/src/Components  RBMLM.py~\n",
      "+++++++++/Users/ihuangyiran/Documents/Workplace_Python/systemBuilder/src/Components/RBMLM.py~\n",
      "checking file: /Users/ihuangyiran/Documents/Workplace_Python/systemBuilder/src/Components  RBMTM.py\n",
      "+++++++++/Users/ihuangyiran/Documents/Workplace_Python/systemBuilder/src/Components/RBMTM.py\n",
      "checking file: /Users/ihuangyiran/Documents/Workplace_Python/systemBuilder/src/Components  RBMTM.pyc\n",
      "+++++++++/Users/ihuangyiran/Documents/Workplace_Python/systemBuilder/src/Components/RBMTM.pyc\n",
      "checking file: /Users/ihuangyiran/Documents/Workplace_Python/systemBuilder/src/Components  RBMTM.py~\n",
      "+++++++++/Users/ihuangyiran/Documents/Workplace_Python/systemBuilder/src/Components/RBMTM.py~\n",
      "checking file: /Users/ihuangyiran/Documents/Workplace_Python/systemBuilder/src/Components  ReorderingRules.py\n",
      "+++++++++/Users/ihuangyiran/Documents/Workplace_Python/systemBuilder/src/Components/ReorderingRules.py\n",
      "checking file: /Users/ihuangyiran/Documents/Workplace_Python/systemBuilder/src/Components  ReorderingRules.pyc\n",
      "+++++++++/Users/ihuangyiran/Documents/Workplace_Python/systemBuilder/src/Components/ReorderingRules.pyc\n",
      "checking file: /Users/ihuangyiran/Documents/Workplace_Python/systemBuilder/src/Components  ReorderingRules.py~\n",
      "+++++++++/Users/ihuangyiran/Documents/Workplace_Python/systemBuilder/src/Components/ReorderingRules.py~\n",
      "checking file: /Users/ihuangyiran/Documents/Workplace_Python/systemBuilder/src/Components  RFTagger.py\n",
      "checking file: /Users/ihuangyiran/Documents/Workplace_Python/systemBuilder/src/Components  RFTagger.pyc\n",
      "checking file: /Users/ihuangyiran/Documents/Workplace_Python/systemBuilder/src/Components  RFTagger.py~\n",
      "checking file: /Users/ihuangyiran/Documents/Workplace_Python/systemBuilder/src/Components  SDWL.py\n",
      "checking file: /Users/ihuangyiran/Documents/Workplace_Python/systemBuilder/src/Components  SDWL.pyc\n",
      "checking file: /Users/ihuangyiran/Documents/Workplace_Python/systemBuilder/src/Components  StanfordParser.py\n",
      "checking file: /Users/ihuangyiran/Documents/Workplace_Python/systemBuilder/src/Components  StanfordParser.pyc\n",
      "checking file: /Users/ihuangyiran/Documents/Workplace_Python/systemBuilder/src/Components  StanfordParser.py~\n",
      "checking file: /Users/ihuangyiran/Documents/Workplace_Python/systemBuilder/src/Components  TreeStems.py\n",
      "checking file: /Users/ihuangyiran/Documents/Workplace_Python/systemBuilder/src/Components  TreeStems.pyc\n",
      "checking file: /Users/ihuangyiran/Documents/Workplace_Python/systemBuilder/src/Components  TreeTagger.py\n",
      "checking file: /Users/ihuangyiran/Documents/Workplace_Python/systemBuilder/src/Components  TreeTagger.pyc\n",
      "checking file: /Users/ihuangyiran/Documents/Workplace_Python/systemBuilder/src/Components  TreeTagger.py~\n",
      "checking file: /Users/ihuangyiran/Documents/Workplace_Python/systemBuilder/src/Components  WikipediaPT.py\n",
      "checking file: /Users/ihuangyiran/Documents/Workplace_Python/systemBuilder/src/Components  WikipediaPT.pyc\n",
      "checking file: /Users/ihuangyiran/Documents/Workplace_Python/systemBuilder/src/Components  WikipediaPT.py~\n",
      "checking file: /Users/ihuangyiran/Documents/Workplace_Python/systemBuilder/src/Data  __init__.py\n",
      "checking file: /Users/ihuangyiran/Documents/Workplace_Python/systemBuilder/src/Data  __init__.pyc\n",
      "checking file: /Users/ihuangyiran/Documents/Workplace_Python/systemBuilder/src/Data  Data.py\n",
      "checking file: /Users/ihuangyiran/Documents/Workplace_Python/systemBuilder/src/Data  Data.pyc\n",
      "checking file: /Users/ihuangyiran/Documents/Workplace_Python/systemBuilder/src/Optimization  __init__.py\n",
      "checking file: /Users/ihuangyiran/Documents/Workplace_Python/systemBuilder/src/Optimization  __init__.pyc\n",
      "checking file: /Users/ihuangyiran/Documents/Workplace_Python/systemBuilder/src/Optimization  Algorithm.py\n",
      "checking file: /Users/ihuangyiran/Documents/Workplace_Python/systemBuilder/src/Optimization  Algorithm.pyc\n",
      "checking file: /Users/ihuangyiran/Documents/Workplace_Python/systemBuilder/src/Optimization  Algorithm.py~\n",
      "checking file: /Users/ihuangyiran/Documents/Workplace_Python/systemBuilder/src/Optimization  DeepListNet.py\n",
      "checking file: /Users/ihuangyiran/Documents/Workplace_Python/systemBuilder/src/Optimization  DeepListNet.pyc\n",
      "checking file: /Users/ihuangyiran/Documents/Workplace_Python/systemBuilder/src/Optimization  KBMira.py\n",
      "checking file: /Users/ihuangyiran/Documents/Workplace_Python/systemBuilder/src/Optimization  KBMira.pyc\n",
      "checking file: /Users/ihuangyiran/Documents/Workplace_Python/systemBuilder/src/Optimization  KITPRO.py\n",
      "checking file: /Users/ihuangyiran/Documents/Workplace_Python/systemBuilder/src/Optimization  KITPRO.pyc\n",
      "checking file: /Users/ihuangyiran/Documents/Workplace_Python/systemBuilder/src/Optimization  KITPRO.py~\n",
      "checking file: /Users/ihuangyiran/Documents/Workplace_Python/systemBuilder/src/Optimization  ListNet.py\n",
      "checking file: /Users/ihuangyiran/Documents/Workplace_Python/systemBuilder/src/Optimization  ListNet.pyc\n",
      "checking file: /Users/ihuangyiran/Documents/Workplace_Python/systemBuilder/src/Optimization  ListNet.py~\n",
      "checking file: /Users/ihuangyiran/Documents/Workplace_Python/systemBuilder/src/Optimization  MERT.py\n",
      "checking file: /Users/ihuangyiran/Documents/Workplace_Python/systemBuilder/src/Optimization  MERT.pyc\n",
      "checking file: /Users/ihuangyiran/Documents/Workplace_Python/systemBuilder/src/Optimization  MERT.py~\n",
      "checking file: /Users/ihuangyiran/Documents/Workplace_Python/systemBuilder/src/Optimization  PRO.py\n",
      "checking file: /Users/ihuangyiran/Documents/Workplace_Python/systemBuilder/src/Optimization  PRO.pyc\n"
     ]
    }
   ],
   "source": [
    "for root, dirs, files in os.walk(\"/Users/ihuangyiran/Documents/Workplace_Python/systemBuilder/src\"):\n",
    "    for fi in files:\n",
    "        filename = root+ \"/\" + fi\n",
    "        print(\"checking file: \" + root + \"  \"+ fi) \n",
    "        checkExist(filename)"
   ]
  },
  {
   "cell_type": "code",
   "execution_count": 2,
   "metadata": {
    "collapsed": false
   },
   "outputs": [
    {
     "name": "stdout",
     "output_type": "stream",
     "text": [
      "TRUE\n"
     ]
    }
   ],
   "source": [
    "a = \"KIT_SRC\"\n",
    "b = \"aaaKIT_SRC\"\n",
    "if a in b:\n",
    "    print(\"TRUE\")"
   ]
  },
  {
   "cell_type": "code",
   "execution_count": 18,
   "metadata": {
    "collapsed": false
   },
   "outputs": [],
   "source": [
    "for root, dirs, files in os.walk(\"/Users/ihuangyiran/Documents/Workplace_Python/systemBuilder\"):\n",
    "    for dir in dirs:\n",
    "        dirname = root+ \"/\" + dir\n",
    "        if \"RBMLM\" in dirname:\n",
    "            print(\"checking dir: \" + dirname) "
   ]
  },
  {
   "cell_type": "code",
   "execution_count": 19,
   "metadata": {
    "collapsed": false
   },
   "outputs": [
    {
     "ename": "ImportError",
     "evalue": "No module named torch",
     "output_type": "error",
     "traceback": [
      "\u001b[0;31m---------------------------------------------------------------------------\u001b[0m",
      "\u001b[0;31mImportError\u001b[0m                               Traceback (most recent call last)",
      "\u001b[0;32m<ipython-input-19-c031d3dd82fc>\u001b[0m in \u001b[0;36m<module>\u001b[0;34m()\u001b[0m\n\u001b[0;32m----> 1\u001b[0;31m \u001b[0;32mimport\u001b[0m \u001b[0mtorch\u001b[0m\u001b[0;34m\u001b[0m\u001b[0m\n\u001b[0m",
      "\u001b[0;31mImportError\u001b[0m: No module named torch"
     ]
    }
   ],
   "source": [
    "import torch"
   ]
  },
  {
   "cell_type": "code",
   "execution_count": null,
   "metadata": {
    "collapsed": true
   },
   "outputs": [],
   "source": []
  }
 ],
 "metadata": {
  "kernelspec": {
   "display_name": "Python2-tf",
   "language": "python",
   "name": "python2"
  },
  "language_info": {
   "codemirror_mode": {
    "name": "ipython",
    "version": 2
   },
   "file_extension": ".py",
   "mimetype": "text/x-python",
   "name": "python",
   "nbconvert_exporter": "python",
   "pygments_lexer": "ipython2",
   "version": "2.7.13"
  }
 },
 "nbformat": 4,
 "nbformat_minor": 2
}
