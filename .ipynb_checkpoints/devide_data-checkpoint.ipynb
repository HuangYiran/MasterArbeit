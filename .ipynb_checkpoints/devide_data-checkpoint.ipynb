{
 "cells": [
  {
   "cell_type": "markdown",
   "metadata": {},
   "source": [
    "Devide the dataset into training data and valuation data and test data:<br>\n",
    "The target set here are hidden value and score"
   ]
  },
  {
   "cell_type": "code",
   "execution_count": 1,
   "metadata": {
    "collapsed": true
   },
   "outputs": [],
   "source": [
    "src_sys = '../data/MasterArbeit/data/full_hidden_sys'\n",
    "src_ref = '../data/MasterArbeit/data/full_hidden_ref'\n",
    "tgt = '../data/MasterArbeit/data/data_scores'"
   ]
  },
  {
   "cell_type": "code",
   "execution_count": 2,
   "metadata": {
    "collapsed": true
   },
   "outputs": [],
   "source": []
  },
  {
   "cell_type": "code",
   "execution_count": 12,
   "metadata": {
    "collapsed": true
   },
   "outputs": [],
   "source": [
    "## read hidden value\n",
    "import numpy\n",
    "import torch"
   ]
  },
  {
   "cell_type": "code",
   "execution_count": 13,
   "metadata": {},
   "outputs": [
    {
     "name": "stdout",
     "output_type": "stream",
     "text": [
      "9392\n"
     ]
    }
   ],
   "source": [
    "with file(src_sys) as fi:\n",
    "    data_sys_out = torch.from_numpy(numpy.load(fi))\n",
    "print(len(data_sys_out))"
   ]
  },
  {
   "cell_type": "code",
   "execution_count": 14,
   "metadata": {},
   "outputs": [
    {
     "name": "stdout",
     "output_type": "stream",
     "text": [
      "9392\n"
     ]
    }
   ],
   "source": [
    "with file(src_ref) as fi:\n",
    "    data_ref = torch.from_numpy(numpy.load(fi))\n",
    "print(len(data_ref))"
   ]
  },
  {
   "cell_type": "code",
   "execution_count": 15,
   "metadata": {},
   "outputs": [
    {
     "name": "stdout",
     "output_type": "stream",
     "text": [
      "9392\n"
     ]
    }
   ],
   "source": [
    "data_scores = []\n",
    "with open(tgt) as fi:\n",
    "    for item in fi:\n",
    "        data_scores.append(item)\n",
    "print(len(data_scores))"
   ]
  },
  {
   "cell_type": "code",
   "execution_count": 16,
   "metadata": {},
   "outputs": [
    {
     "data": {
      "text/plain": [
       "\n",
       " 7.1815e-02  3.9354e-01  9.5694e-02  ...   3.3562e-01  2.1015e-01 -3.0384e-01\n",
       "-8.8849e-02 -5.7903e-02 -2.9673e-01  ...  -2.0042e-01 -4.3326e-02 -1.9184e-01\n",
       " 1.2983e-02 -1.9640e-01 -3.6810e-01  ...  -5.4923e-01 -2.9880e-01 -9.2808e-02\n",
       "                ...                   ⋱                   ...                \n",
       " 7.5097e-02  1.4803e-01 -2.2926e-01  ...   2.7108e-01  5.2202e-02  4.0222e-01\n",
       " 4.9986e-02  1.1651e-01 -1.8905e-02  ...   4.0089e-01 -2.2887e-01 -3.4650e-01\n",
       " 3.1228e-03 -2.8211e-01 -3.5607e-01  ...   2.3748e-02  3.1988e-02 -8.6498e-02\n",
       "[torch.FloatTensor of size 9392x500]"
      ]
     },
     "execution_count": 16,
     "metadata": {},
     "output_type": "execute_result"
    }
   ],
   "source": [
    "data_ref"
   ]
  },
  {
   "cell_type": "code",
   "execution_count": 30,
   "metadata": {
    "collapsed": true
   },
   "outputs": [],
   "source": [
    "# set the ratio\n",
    "sep1 = int(round(len(data_sys_out)*0.8))\n",
    "sep2 = int(round(len(data_sys_out)*0.9))\n",
    "end = len(data_sys_out) - 1"
   ]
  },
  {
   "cell_type": "code",
   "execution_count": 37,
   "metadata": {
    "collapsed": true
   },
   "outputs": [],
   "source": [
    "# departure the data"
   ]
  },
  {
   "cell_type": "code",
   "execution_count": 33,
   "metadata": {
    "collapsed": true
   },
   "outputs": [],
   "source": [
    "train_sys_out = data_sys_out[0:sep1]\n",
    "train_ref = data_ref[0:sep1]\n",
    "train_scores = data_scores[0:sep1]"
   ]
  },
  {
   "cell_type": "code",
   "execution_count": 35,
   "metadata": {
    "collapsed": true
   },
   "outputs": [],
   "source": [
    "val_sys_out = data_sys_out[sep1+1:sep2]\n",
    "val_ref = data_ref[sep1+1:sep2]\n",
    "val_scores = data_scores[sep1+1:sep2]"
   ]
  },
  {
   "cell_type": "code",
   "execution_count": 36,
   "metadata": {
    "collapsed": true
   },
   "outputs": [],
   "source": [
    "test_sys_out = data_sys_out[sep2+1:end]\n",
    "test_ref = data_ref[sep2+1:end]\n",
    "test_scores = data_scores[sep2+1:end]"
   ]
  },
  {
   "cell_type": "code",
   "execution_count": 45,
   "metadata": {
    "collapsed": true
   },
   "outputs": [],
   "source": [
    "out_train_sys_hidden = '../data/MasterArbeit/test/train_sys_hidden'\n",
    "out_train_ref_hidden = '../data/MasterArbeit/test/train_ref_hidden'\n",
    "out_train_scores = '../data/MasterArbeit/test/train_scores'\n",
    "\n",
    "out_val_sys_hidden = '../data/MasterArbeit/test/val_sys_hidden'\n",
    "out_val_ref_hidden = '../data/MasterArbeit/test/val_ref_hidden'\n",
    "out_val_scores = '../data/MasterArbeit/test/val_scores'\n",
    "\n",
    "out_test_sys_hidden = '../data/MasterArbeit/test/test_sys_hidden'\n",
    "out_test_ref_hidden = '../data/MasterArbeit/test/test_ref_hidden'\n",
    "out_test_scores = '../data/MasterArbeit/test/test_scores'"
   ]
  },
  {
   "cell_type": "code",
   "execution_count": 48,
   "metadata": {
    "collapsed": true
   },
   "outputs": [],
   "source": [
    "def write_numpy(src, tgt):\n",
    "    with open(tgt,'w') as fi:\n",
    "        tmp = src.numpy()\n",
    "        numpy.save(fi, tmp)\n",
    "def write_data(filename, li):\n",
    "    with open(filename, 'w') as fi:\n",
    "        for line in li:\n",
    "            fi.write(line)"
   ]
  },
  {
   "cell_type": "code",
   "execution_count": 47,
   "metadata": {
    "collapsed": true
   },
   "outputs": [],
   "source": [
    "write_numpy(train_sys_out, out_train_sys_hidden)\n",
    "write_numpy(train_ref, out_train_ref_hidden)\n",
    "write_numpy(val_sys_out, out_val_sys_hidden)\n",
    "write_numpy(val_ref, out_val_ref_hidden)\n",
    "write_numpy(test_sys_out, out_test_sys_hidden)\n",
    "write_numpy(test_ref, out_test_ref_hidden)"
   ]
  },
  {
   "cell_type": "code",
   "execution_count": 49,
   "metadata": {
    "collapsed": true
   },
   "outputs": [],
   "source": [
    "write_data(out_train_scores, train_scores)\n",
    "write_data(out_val_scores, val_scores)\n",
    "write_data(out_test_scores, test_scores)"
   ]
  },
  {
   "cell_type": "markdown",
   "metadata": {
    "collapsed": true
   },
   "source": [
    "the original set is too large. try to devide it into small sets."
   ]
  },
  {
   "cell_type": "code",
   "execution_count": 12,
   "metadata": {
    "collapsed": true
   },
   "outputs": [],
   "source": [
    "import math"
   ]
  },
  {
   "cell_type": "code",
   "execution_count": 6,
   "metadata": {
    "collapsed": true
   },
   "outputs": [],
   "source": [
    "sys = \"../data/MasterArbeit/data2/pred_prepronc\"\n",
    "ref = \"../data/MasterArbeit/data2/ref_prepronc\"\n",
    "src = \"../data/MasterArbeit/data2/src_prepronc\"\n",
    "tgt = \"../data/MasterArbeit/data2/record_prepronc_clean\""
   ]
  },
  {
   "cell_type": "code",
   "execution_count": 2,
   "metadata": {},
   "outputs": [
    {
     "name": "stdout",
     "output_type": "stream",
     "text": [
      "254074\n"
     ]
    }
   ],
   "source": [
    "data_sys = []\n",
    "with open(sys) as fi:\n",
    "    for item in fi:\n",
    "        data_sys.append(item)\n",
    "print(len(data_sys))"
   ]
  },
  {
   "cell_type": "code",
   "execution_count": 3,
   "metadata": {},
   "outputs": [
    {
     "name": "stdout",
     "output_type": "stream",
     "text": [
      "254074\n"
     ]
    }
   ],
   "source": [
    "data_ref = []\n",
    "with open(ref) as fi:\n",
    "    for item in fi:\n",
    "        data_ref.append(item)\n",
    "print(len(data_ref))"
   ]
  },
  {
   "cell_type": "code",
   "execution_count": 4,
   "metadata": {},
   "outputs": [
    {
     "name": "stdout",
     "output_type": "stream",
     "text": [
      "254074\n"
     ]
    }
   ],
   "source": [
    "data_src = []\n",
    "with open(src) as fi:\n",
    "    for item in fi:\n",
    "        data_src.append(item)\n",
    "print(len(data_src))"
   ]
  },
  {
   "cell_type": "code",
   "execution_count": 7,
   "metadata": {},
   "outputs": [
    {
     "name": "stdout",
     "output_type": "stream",
     "text": [
      "254074\n"
     ]
    }
   ],
   "source": [
    "data_scores = []\n",
    "with open(tgt) as fi:\n",
    "    for item in fi:\n",
    "        data_scores.append(item)\n",
    "print(len(data_scores))"
   ]
  },
  {
   "cell_type": "code",
   "execution_count": 19,
   "metadata": {
    "collapsed": true
   },
   "outputs": [],
   "source": [
    "def write_data(filename, li):\n",
    "    with open(filename, 'w') as fi:\n",
    "        for line in li:\n",
    "            fi.write(line)"
   ]
  },
  {
   "cell_type": "code",
   "execution_count": 16,
   "metadata": {},
   "outputs": [
    {
     "data": {
      "text/plain": [
       "25408"
      ]
     },
     "execution_count": 16,
     "metadata": {},
     "output_type": "execute_result"
    }
   ],
   "source": [
    "num_block = 10\n",
    "num_sent = len(data_sys)\n",
    "len_block = int(math.ceil(num_sent*1.0/num_block))\n",
    "len_block"
   ]
  },
  {
   "cell_type": "code",
   "execution_count": 21,
   "metadata": {
    "collapsed": true
   },
   "outputs": [],
   "source": [
    "for i in range(num_block):\n",
    "    start = i * len_block\n",
    "    if (i+1)*len_block > num_sent:\n",
    "        end = num_sent\n",
    "    else:\n",
    "        end = (i+1) * len_block \n",
    "    filename_src = \"../data/MasterArbeit/data2/src_prepronc\"+str(i+1)\n",
    "    filename_sys = \"../data/MasterArbeit/data2/sys_prepronc\"+str(i+1)\n",
    "    filename_ref = \"../data/MasterArbeit/data2/ref_prepronc\"+str(i+1)\n",
    "    filename_scores = \"../data/MasterArbeit/data2/record_prepronc_cleaned\"+str(i+1)\n",
    "    write_data(filename_src, data_src[start:end])\n",
    "    write_data(filename_sys, data_sys[start:end])\n",
    "    write_data(filename_ref, data_ref[start:end])\n",
    "    write_data(filename_scores, tgt[start:end])"
   ]
  },
  {
   "cell_type": "code",
   "execution_count": null,
   "metadata": {
    "collapsed": true
   },
   "outputs": [],
   "source": []
  }
 ],
 "metadata": {
  "kernelspec": {
   "display_name": "Py27",
   "language": "python",
   "name": "python2"
  },
  "language_info": {
   "codemirror_mode": {
    "name": "ipython",
    "version": 2
   },
   "file_extension": ".py",
   "mimetype": "text/x-python",
   "name": "python",
   "nbconvert_exporter": "python",
   "pygments_lexer": "ipython2",
   "version": "2.7.13"
  }
 },
 "nbformat": 4,
 "nbformat_minor": 2
}
