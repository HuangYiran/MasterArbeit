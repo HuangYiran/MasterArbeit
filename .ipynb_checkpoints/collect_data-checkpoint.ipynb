{
 "cells": [
  {
   "cell_type": "code",
   "execution_count": 1,
   "metadata": {
    "collapsed": true
   },
   "outputs": [],
   "source": [
    "import os"
   ]
  },
  {
   "cell_type": "code",
   "execution_count": 2,
   "metadata": {
    "collapsed": true
   },
   "outputs": [],
   "source": [
    "# sys output是目录路径，因为有多个系统，其他两个是文件路径\n",
    "root_sys = \"/Users/ihuangyiran/Documents/Workplace_Python/data/wmt17-metrics-task/wmt17-submitted-data/txt/system-outputs/newstest2017/en-de\"\n",
    "dir_data_ref = \"/Users/ihuangyiran/Documents/Workplace_Python/data/wmt17-metrics-task/wmt17-submitted-data/txt/references/newstest2017-ende-ref.de\"\n",
    "dir_data_source = \"/Users/ihuangyiran/Documents/Workplace_Python/data/wmt17-metrics-task/wmt17-submitted-data/txt/sources/newstest2017-ende-src.en\""
   ]
  },
  {
   "cell_type": "code",
   "execution_count": 3,
   "metadata": {
    "collapsed": true
   },
   "outputs": [],
   "source": [
    "# 系统汇总\n",
    "sys = ['C-3MA.4959','fbk-nmt-combination.4870', 'KIT.4950', 'LIUM-NMT.4900', 'LMU-nmt-reranked.4934', 'LMU-nmt-single.4893', 'online-A.0', 'online-B.0', 'online-F.0', 'online-G.0', 'PROMT-Rule-based.4735', 'RWTH-nmt-ensemble.4921', 'SYSTRAN.4847', 'TALP-UPC.4834', 'uedin-nmt.4722', 'xmu.4910']"
   ]
  },
  {
   "cell_type": "code",
   "execution_count": 4,
   "metadata": {
    "collapsed": false
   },
   "outputs": [
    {
     "data": {
      "text/plain": [
       "['C-3MA.4959',\n",
       " 'fbk-nmt-combination.4870',\n",
       " 'KIT.4950',\n",
       " 'LIUM-NMT.4900',\n",
       " 'LMU-nmt-reranked.4934',\n",
       " 'LMU-nmt-single.4893',\n",
       " 'online-A.0',\n",
       " 'online-B.0',\n",
       " 'online-F.0',\n",
       " 'online-G.0',\n",
       " 'PROMT-Rule-based.4735',\n",
       " 'RWTH-nmt-ensemble.4921',\n",
       " 'SYSTRAN.4847',\n",
       " 'TALP-UPC.4834',\n",
       " 'uedin-nmt.4722',\n",
       " 'xmu.4910']"
      ]
     },
     "execution_count": 4,
     "metadata": {},
     "output_type": "execute_result"
    }
   ],
   "source": [
    "sys"
   ]
  },
  {
   "cell_type": "code",
   "execution_count": 5,
   "metadata": {
    "collapsed": false
   },
   "outputs": [
    {
     "data": {
      "text/plain": [
       "['newstest2017.C-3MA.4959.en-de',\n",
       " 'newstest2017.fbk-nmt-combination.4870.en-de',\n",
       " 'newstest2017.KIT.4950.en-de',\n",
       " 'newstest2017.LIUM-NMT.4900.en-de',\n",
       " 'newstest2017.LMU-nmt-reranked.4934.en-de',\n",
       " 'newstest2017.LMU-nmt-single.4893.en-de',\n",
       " 'newstest2017.online-A.0.en-de',\n",
       " 'newstest2017.online-B.0.en-de',\n",
       " 'newstest2017.online-F.0.en-de',\n",
       " 'newstest2017.online-G.0.en-de',\n",
       " 'newstest2017.PROMT-Rule-based.4735.en-de',\n",
       " 'newstest2017.RWTH-nmt-ensemble.4921.en-de',\n",
       " 'newstest2017.SYSTRAN.4847.en-de',\n",
       " 'newstest2017.TALP-UPC.4834.en-de',\n",
       " 'newstest2017.uedin-nmt.4722.en-de',\n",
       " 'newstest2017.xmu.4910.en-de']"
      ]
     },
     "execution_count": 5,
     "metadata": {},
     "output_type": "execute_result"
    }
   ],
   "source": [
    "# 获取sys_out文件目录下的文件名\n",
    "walk = os.walk(root_sys)\n",
    "filenames = \"\"\n",
    "for root, dir, fname in walk:\n",
    "    filenames = fname\n",
    "filenames"
   ]
  },
  {
   "cell_type": "code",
   "execution_count": 6,
   "metadata": {
    "collapsed": true
   },
   "outputs": [],
   "source": [
    "def add_one(file):\n",
    "    tmp = open(file)\n",
    "    for line in tmp:\n",
    "        yield line\n",
    "    yield None"
   ]
  },
  {
   "cell_type": "code",
   "execution_count": 7,
   "metadata": {
    "collapsed": true
   },
   "outputs": [],
   "source": [
    "def get_filename(name, filelist):\n",
    "    index = 0\n",
    "    while(index < len(filelist)):\n",
    "        if name in filelist[index]:\n",
    "            return filelist[index]\n",
    "        index = index + 1"
   ]
  },
  {
   "cell_type": "code",
   "execution_count": null,
   "metadata": {
    "collapsed": true
   },
   "outputs": [],
   "source": []
  },
  {
   "cell_type": "code",
   "execution_count": 8,
   "metadata": {
    "collapsed": true
   },
   "outputs": [],
   "source": [
    "data_sys_out = []\n",
    "data_ref = []\n",
    "data_source = []\n",
    "data_scores = []"
   ]
  },
  {
   "cell_type": "code",
   "execution_count": 9,
   "metadata": {
    "collapsed": true
   },
   "outputs": [],
   "source": [
    "def add_data(li_r, li_s, li_o, score):\n",
    "    data_ref.append(li_r)\n",
    "    data_source.append(li_s)\n",
    "    data_sys_out.append(li_o)\n",
    "    data_scores.append(score)"
   ]
  },
  {
   "cell_type": "code",
   "execution_count": 10,
   "metadata": {
    "collapsed": false
   },
   "outputs": [
    {
     "name": "stdout",
     "output_type": "stream",
     "text": [
      "start extract data from file ./test_data/C-3MA.4959\n",
      "C-3MA.4959file lang: 628\n",
      "..end extract data from file ./test_data/C-3MA.4959\n",
      "start extract data from file ./test_data/fbk-nmt-combination.4870\n",
      "fbk-nmt-combination.4870file lang: 525\n",
      "..end extract data from file ./test_data/fbk-nmt-combination.4870\n",
      "start extract data from file ./test_data/KIT.4950\n",
      "KIT.4950file lang: 532\n",
      "..end extract data from file ./test_data/KIT.4950\n",
      "start extract data from file ./test_data/LIUM-NMT.4900\n",
      "LIUM-NMT.4900file lang: 546\n",
      "..end extract data from file ./test_data/LIUM-NMT.4900\n",
      "start extract data from file ./test_data/LMU-nmt-reranked.4934\n",
      "LMU-nmt-reranked.4934file lang: 600\n",
      "..end extract data from file ./test_data/LMU-nmt-reranked.4934\n",
      "start extract data from file ./test_data/LMU-nmt-single.4893\n",
      "LMU-nmt-single.4893file lang: 477\n",
      "..end extract data from file ./test_data/LMU-nmt-single.4893\n",
      "start extract data from file ./test_data/online-A.0\n",
      "online-A.0file lang: 585\n",
      "..end extract data from file ./test_data/online-A.0\n",
      "start extract data from file ./test_data/online-B.0\n",
      "online-B.0file lang: 590\n",
      "..end extract data from file ./test_data/online-B.0\n",
      "start extract data from file ./test_data/online-F.0\n",
      "online-F.0file lang: 590\n",
      "..end extract data from file ./test_data/online-F.0\n",
      "start extract data from file ./test_data/online-G.0\n",
      "online-G.0file lang: 687\n",
      "..end extract data from file ./test_data/online-G.0\n",
      "start extract data from file ./test_data/PROMT-Rule-based.4735\n",
      "PROMT-Rule-based.4735file lang: 610\n",
      "..end extract data from file ./test_data/PROMT-Rule-based.4735\n",
      "start extract data from file ./test_data/RWTH-nmt-ensemble.4921\n",
      "RWTH-nmt-ensemble.4921file lang: 624\n",
      "..end extract data from file ./test_data/RWTH-nmt-ensemble.4921\n",
      "start extract data from file ./test_data/SYSTRAN.4847\n",
      "SYSTRAN.4847file lang: 630\n",
      "..end extract data from file ./test_data/SYSTRAN.4847\n",
      "start extract data from file ./test_data/TALP-UPC.4834\n",
      "TALP-UPC.4834file lang: 633\n",
      "..end extract data from file ./test_data/TALP-UPC.4834\n",
      "start extract data from file ./test_data/uedin-nmt.4722\n",
      "uedin-nmt.4722file lang: 509\n",
      "..end extract data from file ./test_data/uedin-nmt.4722\n",
      "start extract data from file ./test_data/xmu.4910\n",
      "xmu.4910file lang: 626\n",
      "..end extract data from file ./test_data/xmu.4910\n"
     ]
    }
   ],
   "source": [
    "# 读文件\n",
    "\n",
    "for sysname in sys:\n",
    "    # 读取ref和src文件\n",
    "    file_ref = add_one(dir_data_ref)\n",
    "    file_src = add_one(dir_data_source)\n",
    "    # 读取对应的sys_out文件，要求是名字包含有sysname的对应的文件\n",
    "    filename = get_filename(sysname, filenames)\n",
    "    file_sys_out = add_one(root_sys + \"/\" + filename)\n",
    "    cfile = zip(file_ref, file_src, file_sys_out)\n",
    "    \n",
    "    # 读取analyse文件，并把行数和分数分别存在列表sids和tmp_scores中\n",
    "    file_ana = open(\"./test_data/\" + sysname)\n",
    "    sids = []\n",
    "    tmp_scores = []\n",
    "    for line in file_ana:\n",
    "        tmp = line.split(\",\")\n",
    "        sids.append(tmp[0])\n",
    "        tmp_scores.append(tmp[1])\n",
    "    \n",
    "    assert(len(sids) == len(tmp_scores))\n",
    "    print(\"start extract data from file \" + \"./test_data/\" + sysname)\n",
    "    print(sysname + \" file long:\", len(sids))\n",
    "    index_sent = 1 # 指明当前看的是文档中的第几个句子，从1开始计数\n",
    "    index_ana = 0 # 指明当前看的是ana文件中的第几项，从0开始计数\n",
    "    end = False\n",
    "    for item in cfile:\n",
    "        # 因为文件是按照sid进行排序的，所以可以这么处理\n",
    "        li_r = item[0]\n",
    "        li_s = item[1]\n",
    "        li_o = item[2]\n",
    "        # 如果sid该项所看的句子，刚好是现在所在的句子，就把这个句子记起来，否则跳过\n",
    "        # 可能存在一个句子有多个人打分的情况，所以这里用while，而不是用if\n",
    "        # 因为不存在无用的项，所以仅在保存了该项的内容后，才会增加index_ana\n",
    "        sid = sids[index_ana]\n",
    "        while str(index_sent) == sid: \n",
    "            add_data(li_r, li_s, li_o, tmp_scores[index_ana])\n",
    "            index_ana = index_ana + 1\n",
    "            if index_ana < len(sids):\n",
    "                sid = sids[index_ana]\n",
    "            else:\n",
    "                # 该系统的分析文件已经读完了，所以就结束程序吧\n",
    "                end = True\n",
    "                break\n",
    "        # 假如index_sent和sid不一致，说明ana当前项看的并不是这个句子，所以跳到下一个句子\n",
    "        index_sent = index_sent + 1\n",
    "        if end:\n",
    "            break\n",
    "        \n",
    "    print(\"..end extract data from file \" + \"./test_data/\" + sysname)\n",
    "    \n",
    "    file_ref.close()\n",
    "    file_src.close()\n",
    "    file_sys_out.close()\n",
    "    file_ana.close()"
   ]
  },
  {
   "cell_type": "code",
   "execution_count": 51,
   "metadata": {
    "collapsed": true
   },
   "outputs": [],
   "source": [
    "# 写文件\n",
    "def write_data(filename, li):\n",
    "    with open(filename, 'w') as fi:\n",
    "        for line in li:\n",
    "            fi.write(line)"
   ]
  },
  {
   "cell_type": "code",
   "execution_count": 52,
   "metadata": {
    "collapsed": true
   },
   "outputs": [],
   "source": [
    "write_data(\"./data/data_sys_out\", data_sys_out)\n",
    "write_data(\"./data/data_ref\", data_ref)\n",
    "write_data(\"./data/data_source\", data_source)\n",
    "write_data(\"./data/data_scores\", data_scores)"
   ]
  },
  {
   "cell_type": "code",
   "execution_count": 11,
   "metadata": {
    "collapsed": false
   },
   "outputs": [
    {
     "data": {
      "text/plain": [
       "9392"
      ]
     },
     "execution_count": 11,
     "metadata": {},
     "output_type": "execute_result"
    }
   ],
   "source": [
    "len(data_scores)"
   ]
  },
  {
   "cell_type": "code",
   "execution_count": 12,
   "metadata": {
    "collapsed": true
   },
   "outputs": [],
   "source": [
    "# 把数据分成三部分：training data, validation data, pseudo test data\n",
    "import random"
   ]
  },
  {
   "cell_type": "code",
   "execution_count": 21,
   "metadata": {
    "collapsed": true
   },
   "outputs": [],
   "source": [
    "# 乱序\n",
    "random.seed(10)\n",
    "random.shuffle(data_sys_out)\n",
    "random.seed(10)\n",
    "random.shuffle(data_ref)\n",
    "random.seed(10)\n",
    "random.shuffle(data_source)\n",
    "random.seed(10)\n",
    "random.shuffle(data_scores)"
   ]
  },
  {
   "cell_type": "code",
   "execution_count": 33,
   "metadata": {
    "collapsed": true
   },
   "outputs": [],
   "source": [
    "train_sys_out = []\n",
    "train_ref = []\n",
    "train_source = []\n",
    "train_scores = []\n",
    "\n",
    "val_sys_out = []\n",
    "val_ref = []\n",
    "val_source = []\n",
    "val_scores = []\n",
    "\n",
    "pseudo_test_sys_out = []\n",
    "pseudo_test_ref = []\n",
    "pseudo_test_source = []\n",
    "pseudo_test_scores = []"
   ]
  },
  {
   "cell_type": "code",
   "execution_count": 43,
   "metadata": {
    "collapsed": true
   },
   "outputs": [],
   "source": [
    "sep1 = round(len(data_sys_out)*0.8)\n",
    "sep2 = round(len(data_sys_out)*0.9)\n",
    "end = len(data_sys_out) - 1"
   ]
  },
  {
   "cell_type": "code",
   "execution_count": 34,
   "metadata": {
    "collapsed": true
   },
   "outputs": [],
   "source": [
    "train_sys_out.extend(data_sys_out[0:sep1])\n",
    "train_ref.extend(data_ref[0:sep1])\n",
    "train_source.extend(data_source[0:sep1])\n",
    "train_scores.extend(data_source[0:sep1])"
   ]
  },
  {
   "cell_type": "code",
   "execution_count": 37,
   "metadata": {
    "collapsed": true
   },
   "outputs": [],
   "source": [
    "val_sys_out.extend(data_sys_out[sep1+1:sep2])\n",
    "val_ref.extend(data_ref[sep1+1:sep2])\n",
    "val_source.extend(data_source[sep1+1:sep2])\n",
    "val_scores.extend(data_scores[sep1+1:sep2])"
   ]
  },
  {
   "cell_type": "code",
   "execution_count": 45,
   "metadata": {
    "collapsed": true
   },
   "outputs": [],
   "source": [
    "pseudo_test_sys_out.extend(data_sys_out[sep2+1:end])\n",
    "pseudo_test_ref.extend(data_ref[sep2+1:end])\n",
    "pseudo_test_source.extend(data_source[sep2+1:end])\n",
    "pseudo_test_scores.extend(data_scores[sep2+1:end])"
   ]
  },
  {
   "cell_type": "code",
   "execution_count": 53,
   "metadata": {
    "collapsed": true
   },
   "outputs": [],
   "source": [
    "write_data(\"./data/train_sys_out\", train_sys_out)\n",
    "write_data(\"./data/train_ref\", train_ref)\n",
    "write_data(\"./data/train_source\", train_source)\n",
    "write_data(\"./data/train_scores\", train_scores)\n",
    "\n",
    "write_data(\"./data/val_sys_out\", val_sys_out)\n",
    "write_data(\"./data/val_ref\", val_ref)\n",
    "write_data(\"./data/val_source\", val_source)\n",
    "write_data(\"./data/val_scores\", val_scores)\n",
    "\n",
    "write_data(\"./data/pseudo_test_sys_out\", pseudo_test_sys_out)\n",
    "write_data(\"./data/pseudo_test_ref\", pseudo_test_ref)\n",
    "write_data(\"./data/pseudo_test_source\", pseudo_test_source)\n",
    "write_data(\"./data/pseudo_test_scores\", pseudo_test_scores)"
   ]
  },
  {
   "cell_type": "code",
   "execution_count": null,
   "metadata": {
    "collapsed": true
   },
   "outputs": [],
   "source": []
  }
 ],
 "metadata": {
  "kernelspec": {
   "display_name": "Python2-tf",
   "language": "python",
   "name": "python2"
  },
  "language_info": {
   "codemirror_mode": {
    "name": "ipython",
    "version": 2
   },
   "file_extension": ".py",
   "mimetype": "text/x-python",
   "name": "python",
   "nbconvert_exporter": "python",
   "pygments_lexer": "ipython2",
   "version": "2.7.13"
  }
 },
 "nbformat": 4,
 "nbformat_minor": 2
}
