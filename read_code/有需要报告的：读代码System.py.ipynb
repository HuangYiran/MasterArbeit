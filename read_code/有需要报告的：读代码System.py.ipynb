{
 "cells": [
  {
   "cell_type": "markdown",
   "metadata": {},
   "source": [
    "作死 怎么这么多！！！"
   ]
  },
  {
   "cell_type": "markdown",
   "metadata": {},
   "source": [
    "## 一"
   ]
  },
  {
   "cell_type": "markdown",
   "metadata": {},
   "source": [
    "当xml中节点为File的时候，会读取file节点的所有只节点，但是这里存在一个问题就是，这里只把file节点下的sourceLanguage和targetLanguage村粗到system.language里面，而没有存到对应的system.sourceLanguage和system.targetLanguage里面，这就导致后面在checkParameter的时候，system.sourceLanguage和system.targetlanguage都是空的。"
   ]
  },
  {
   "cell_type": "markdown",
   "metadata": {},
   "source": [
    "## 二"
   ]
  },
  {
   "cell_type": "markdown",
   "metadata": {},
   "source": [
    "找不到environ中的KIT_SRC是在哪里定义的，明显少了这么一个家伙。<br>\n",
    "定义了个找KIT_SRC的方法，发现在这三个家伙里面用到了KIT_SRC：rbmlm,rbmtm,reorderingrules。相应的代码是：\n",
    "- reordering \"python \\$KIT_SRC/Reordering/Release/lib/python/CreateLattice.py\"\n",
    "- rbmlm：\\$KIT_SRC/RBMLM/Release.openMP/bin/RBMLM \n",
    "- rbmtm：\\$KIT_SRC/RBMLM/Release.openMP/bin/RBMLM "
   ]
  },
  {
   "cell_type": "markdown",
   "metadata": {},
   "source": [
    "这样要找到KIT_SRC对应的目录应该不难，但是问题是，不知道原本用于设置这个变量的文件，是否还有干其他重要的事。"
   ]
  },
  {
   "cell_type": "markdown",
   "metadata": {},
   "source": [
    "在老师的文件夹下找了一下，发现了两个目录：\n",
    "- checking dir: /home/jniehues/code/RBMLM/RBMLM/Release.openMP/bin\n",
    "- checking dir: /home/jniehues/code/MTSoftware/trunk/RBMLM/Release.openMP/bin"
   ]
  },
  {
   "cell_type": "markdown",
   "metadata": {},
   "source": [
    "核对了一下发现应该是第二个是想要的。<br>\n",
    "也就是说KIT_SRC应该等于：/home/jniehues/code/MTSoftware/trunk/"
   ]
  },
  {
   "cell_type": "markdown",
   "metadata": {},
   "source": [
    "试一下直接设成环境变量会怎么样"
   ]
  },
  {
   "cell_type": "markdown",
   "metadata": {},
   "source": [
    "😑作死，他跑起来了。鬼知道结果是不是正确的，还是和老师报告一下吧"
   ]
  },
  {
   "cell_type": "code",
   "execution_count": null,
   "metadata": {
    "collapsed": true
   },
   "outputs": [],
   "source": []
  }
 ],
 "metadata": {
  "kernelspec": {
   "display_name": "Python2-tf",
   "language": "python",
   "name": "python2"
  },
  "language_info": {
   "codemirror_mode": {
    "name": "ipython",
    "version": 2
   },
   "file_extension": ".py",
   "mimetype": "text/x-python",
   "name": "python",
   "nbconvert_exporter": "python",
   "pygments_lexer": "ipython2",
   "version": "2.7.13"
  }
 },
 "nbformat": 4,
 "nbformat_minor": 2
}
