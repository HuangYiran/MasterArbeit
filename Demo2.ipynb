{
 "cells": [
  {
   "cell_type": "markdown",
   "metadata": {},
   "source": [
    "## Plan a "
   ]
  },
  {
   "cell_type": "markdown",
   "metadata": {},
   "source": [
    "### en-de"
   ]
  },
  {
   "cell_type": "markdown",
   "metadata": {},
   "source": [
    "##### data\n",
    "newstest2017-deen"
   ]
  },
  {
   "cell_type": "code",
   "execution_count": null,
   "metadata": {
    "collapsed": true
   },
   "outputs": [],
   "source": []
  },
  {
   "cell_type": "markdown",
   "metadata": {},
   "source": [
    "### de-en"
   ]
  },
  {
   "cell_type": "markdown",
   "metadata": {},
   "source": [
    "##### data\n",
    "newstest2017-deen"
   ]
  },
  {
   "cell_type": "code",
   "execution_count": null,
   "metadata": {
    "collapsed": true
   },
   "outputs": [],
   "source": []
  },
  {
   "cell_type": "markdown",
   "metadata": {},
   "source": [
    "## Plan b"
   ]
  },
  {
   "cell_type": "markdown",
   "metadata": {},
   "source": [
    "### en-de"
   ]
  },
  {
   "cell_type": "markdown",
   "metadata": {},
   "source": [
    "##### data\n",
    "- all: newstest2017-deen\n",
    "- train: 'C-3MA.4959',\n",
    " 'fbk-nmt-combination.4870',\n",
    " 'KIT.4950',\n",
    " 'LIUM-NMT.4900',\n",
    " 'LMU-nmt-reranked.4934',\n",
    " 'LMU-nmt-single.4893',\n",
    " 'online-A.0',\n",
    " 'online-B.0',\n",
    " 'online-F.0',\n",
    " 'online-G.0',\n",
    " 'PROMT-Rule-based.4735',\n",
    " 'RWTH-nmt-ensemble.4921',\n",
    " 'SYSTRAN.4847',\n",
    " 'TALP-UPC.4834'\n",
    "- val: 'uedin-nmt.4722'\n",
    "- test: 'xmu.4910'"
   ]
  },
  {
   "cell_type": "code",
   "execution_count": null,
   "metadata": {
    "collapsed": true
   },
   "outputs": [],
   "source": []
  },
  {
   "cell_type": "markdown",
   "metadata": {},
   "source": [
    "### de-en"
   ]
  },
  {
   "cell_type": "markdown",
   "metadata": {},
   "source": [
    "##### data\n",
    "- all: newstest2017-deen\n",
    "- train: 'C-3MA.4958',\n",
    "       'KIT.4951',\n",
    "       'LIUM-NMT.4733',\n",
    "       'online-A.0',\n",
    "       'online-B.0',\n",
    "       'online-F.0',\n",
    "       'online-G.0',\n",
    "       'RWTH-nmt-ensemble.4920',\n",
    "       'SYSTRAN.4846'\n",
    "- val: 'TALP-UPC.4830'\n",
    "- test: 'uedin-nmt.4723'"
   ]
  },
  {
   "cell_type": "code",
   "execution_count": null,
   "metadata": {
    "collapsed": true
   },
   "outputs": [],
   "source": []
  },
  {
   "cell_type": "markdown",
   "metadata": {},
   "source": [
    "## Plan c - da"
   ]
  },
  {
   "cell_type": "markdown",
   "metadata": {},
   "source": [
    "### de-en"
   ]
  },
  {
   "cell_type": "markdown",
   "metadata": {},
   "source": [
    "##### data\n",
    "- train, val: newstest2016\n",
    "- test: newstest2017-deen"
   ]
  },
  {
   "cell_type": "code",
   "execution_count": null,
   "metadata": {
    "collapsed": true
   },
   "outputs": [],
   "source": []
  }
 ],
 "metadata": {
  "kernelspec": {
   "display_name": "Py27",
   "language": "python",
   "name": "python2"
  },
  "language_info": {
   "codemirror_mode": {
    "name": "ipython",
    "version": 2
   },
   "file_extension": ".py",
   "mimetype": "text/x-python",
   "name": "python",
   "nbconvert_exporter": "python",
   "pygments_lexer": "ipython2",
   "version": "2.7.13"
  }
 },
 "nbformat": 4,
 "nbformat_minor": 2
}
