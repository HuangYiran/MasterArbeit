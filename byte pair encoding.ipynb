{
 "cells": [
  {
   "cell_type": "markdown",
   "metadata": {},
   "source": [
    "字节对编码 是一种简单的数据压缩形式，这种方法用数据中不存的一个字节表示最常出现的连续字节数据。这样的替换需要重建全部原始数据<br>"
   ]
  },
  {
   "cell_type": "markdown",
   "metadata": {},
   "source": [
    "假设我们要编码如下数据<br>\n",
    "aaabdaaabac<br>\n",
    "字节对“aa”出现次数最多，所以我们用数据中没有出现的字节“Z”替换“aa”得到替换表<br>\n",
    "Z <- aa<br>\n",
    "数据转变为<br>\n",
    "ZabdZabac<br>\n",
    "在这个数据中，字节对“Za”出现的次数最多，我们用另外一个字节“Y”来替换它（这种情况下由于所有的“Z”都将被替换，所以也可以用“Z”来替换“Za”），得到替换表以及数据<br>\n",
    "Z <- aa<br>\n",
    "Y <- Za<br>\n",
    "YbdYbac<br>\n",
    "我们再次替换最常出现的字节对得到：<br>\n",
    "Z <- aa<br>\n",
    "Y <- Za<br>\n",
    "X <- Yb<br>\n",
    "XdXac<br>\n",
    "由于不再有重复出现的字节对，所以这个数据不能再被进一步压缩。<br>\n",
    "解压的时候，就是按照相反的顺序执行替换过程。<br>"
   ]
  },
  {
   "cell_type": "code",
   "execution_count": null,
   "metadata": {
    "collapsed": true
   },
   "outputs": [],
   "source": []
  }
 ],
 "metadata": {
  "kernelspec": {
   "display_name": "Python2-tf",
   "language": "python",
   "name": "python2"
  },
  "language_info": {
   "codemirror_mode": {
    "name": "ipython",
    "version": 2
   },
   "file_extension": ".py",
   "mimetype": "text/x-python",
   "name": "python",
   "nbconvert_exporter": "python",
   "pygments_lexer": "ipython2",
   "version": "2.7.13"
  }
 },
 "nbformat": 4,
 "nbformat_minor": 2
}
