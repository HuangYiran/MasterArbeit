{
 "cells": [
  {
   "cell_type": "code",
   "execution_count": 1,
   "metadata": {
    "collapsed": true
   },
   "outputs": [],
   "source": [
    "import numpy as np"
   ]
  },
  {
   "cell_type": "code",
   "execution_count": 2,
   "metadata": {
    "collapsed": true
   },
   "outputs": [],
   "source": [
    "file_sys = file(\"./data/hidden_sys\")\n",
    "data_sys = np.load(file_sys)\n",
    "data_sys.shape\n",
    "file_sys.close()"
   ]
  },
  {
   "cell_type": "code",
   "execution_count": 3,
   "metadata": {
    "collapsed": true
   },
   "outputs": [],
   "source": [
    "file_ref = open(\"./data/hidden_ref\")\n",
    "data_ref = np.load(file_ref)\n",
    "data_ref.shape\n",
    "file_ref.close()"
   ]
  },
  {
   "cell_type": "code",
   "execution_count": 4,
   "metadata": {
    "collapsed": true
   },
   "outputs": [],
   "source": [
    "data_scores = []\n",
    "with open(\"./data/data_scores\") as fi:\n",
    "    for line in fi:\n",
    "        data_scores.append(float(line.strip()))"
   ]
  },
  {
   "cell_type": "code",
   "execution_count": 79,
   "metadata": {
    "collapsed": false
   },
   "outputs": [
    {
     "data": {
      "text/plain": [
       "\n",
       " 0.9131\n",
       " 0.1423\n",
       " 0.1597\n",
       "   ⋮   \n",
       " 1.0628\n",
       " 1.1250\n",
       " 0.8761\n",
       "[torch.FloatTensor of size 9392]"
      ]
     },
     "execution_count": 79,
     "metadata": {},
     "output_type": "execute_result"
    }
   ],
   "source": [
    "a = torch.Tensor(a)\n",
    "a"
   ]
  },
  {
   "cell_type": "code",
   "execution_count": 6,
   "metadata": {
    "collapsed": true
   },
   "outputs": [],
   "source": [
    "import torch"
   ]
  },
  {
   "cell_type": "code",
   "execution_count": 85,
   "metadata": {
    "collapsed": false
   },
   "outputs": [
    {
     "data": {
      "text/plain": [
       "\n",
       " 1.1317e-01  1.9135e-01  4.8339e-02  ...   3.3562e-01  2.1015e-01 -3.0384e-01\n",
       " 6.9478e-01  6.4986e-01 -2.1220e-01  ...  -3.8425e-01 -6.4973e-01 -2.3927e-01\n",
       " 2.5970e-01  5.3346e-01  8.0853e-02  ...  -4.2903e-01 -3.2311e-01 -8.9193e-02\n",
       "                ...                   ⋱                   ...                \n",
       " 6.6741e-01  6.7923e-01  1.4909e-01  ...  -2.2978e-01 -3.1571e-01  1.3677e-01\n",
       " 2.5324e-02  1.3155e-01 -6.5003e-03  ...   4.0089e-01 -2.2887e-01 -3.4650e-01\n",
       " 4.1332e-01  5.0622e-01 -4.5596e-01  ...  -5.0268e-01 -3.7340e-01 -2.6541e-01\n",
       "[torch.FloatTensor of size 9392x1000]"
      ]
     },
     "execution_count": 85,
     "metadata": {},
     "output_type": "execute_result"
    }
   ],
   "source": [
    "a = torch.Tensor(data_scores)\n",
    "b = torch.from_numpy(data_ref)\n",
    "c = torch.from_numpy(data_sys)\n",
    "d = torch.cat((c,b), 1)\n",
    "d"
   ]
  },
  {
   "cell_type": "code",
   "execution_count": 86,
   "metadata": {
    "collapsed": true
   },
   "outputs": [],
   "source": [
    "import random\n",
    "random.seed(3248)"
   ]
  },
  {
   "cell_type": "code",
   "execution_count": 87,
   "metadata": {
    "collapsed": true
   },
   "outputs": [],
   "source": [
    "tmp = range(len(data_scores))\n",
    "random.shuffle(tmp)"
   ]
  },
  {
   "cell_type": "code",
   "execution_count": null,
   "metadata": {
    "collapsed": true
   },
   "outputs": [],
   "source": []
  },
  {
   "cell_type": "code",
   "execution_count": 88,
   "metadata": {
    "collapsed": true
   },
   "outputs": [],
   "source": [
    "comb = zip(d, a, tmp)\n",
    "comb = sorted(comb, key = lambda x: x[-1])\n",
    "d, a, tmp = zip(*comb)"
   ]
  },
  {
   "cell_type": "code",
   "execution_count": 89,
   "metadata": {
    "collapsed": false
   },
   "outputs": [
    {
     "data": {
      "text/plain": [
       "\n",
       " 0.9131\n",
       " 0.1423\n",
       " 0.1597\n",
       "   ⋮   \n",
       " 1.0628\n",
       " 1.1250\n",
       " 0.8761\n",
       "[torch.FloatTensor of size 9392]"
      ]
     },
     "execution_count": 89,
     "metadata": {},
     "output_type": "execute_result"
    }
   ],
   "source": [
    "a = torch.Tensor(a)\n",
    "a"
   ]
  },
  {
   "cell_type": "code",
   "execution_count": 95,
   "metadata": {
    "collapsed": false
   },
   "outputs": [
    {
     "data": {
      "text/plain": [
       "\n",
       " 3.1889e-01  6.3258e-01  1.1316e-01  ...  -4.0196e-01 -4.5356e-01 -4.0905e-01\n",
       " 4.2669e-01  5.7952e-01 -1.5267e-01  ...  -7.3717e-01 -5.4875e-01 -4.3146e-01\n",
       " 2.3961e-01  4.4815e-01 -3.0775e-01  ...  -7.1228e-01 -6.1418e-01 -2.2865e-01\n",
       "                ...                   ⋱                   ...                \n",
       " 3.0726e-01  4.2501e-01 -6.7688e-02  ...  -3.7334e-01 -6.1822e-01 -2.2931e-01\n",
       " 4.6479e-01  4.5037e-01  4.2272e-02  ...  -5.3935e-01 -3.9767e-01 -6.4714e-02\n",
       " 4.3281e-01  4.3685e-01 -4.6474e-02  ...  -6.4254e-01 -2.9456e-01 -4.9992e-01\n",
       "[torch.FloatTensor of size 9392x1000]"
      ]
     },
     "execution_count": 95,
     "metadata": {},
     "output_type": "execute_result"
    }
   ],
   "source": [
    "tmp = d[0].view(1, -1)\n",
    "for i in range(1, len(d)):\n",
    "    tmp = torch.cat((tmp, d[i].view(1, -1)), 0)\n",
    "tmp"
   ]
  },
  {
   "cell_type": "code",
   "execution_count": 96,
   "metadata": {
    "collapsed": false
   },
   "outputs": [
    {
     "data": {
      "text/plain": [
       "\n",
       " 3.1889e-01  6.3258e-01  1.1316e-01  ...  -4.0196e-01 -4.5356e-01 -4.0905e-01\n",
       " 4.2669e-01  5.7952e-01 -1.5267e-01  ...  -7.3717e-01 -5.4875e-01 -4.3146e-01\n",
       " 2.3961e-01  4.4815e-01 -3.0775e-01  ...  -7.1228e-01 -6.1418e-01 -2.2865e-01\n",
       "                ...                   ⋱                   ...                \n",
       " 3.0726e-01  4.2501e-01 -6.7688e-02  ...  -3.7334e-01 -6.1822e-01 -2.2931e-01\n",
       " 4.6479e-01  4.5037e-01  4.2272e-02  ...  -5.3935e-01 -3.9767e-01 -6.4714e-02\n",
       " 4.3281e-01  4.3685e-01 -4.6474e-02  ...  -6.4254e-01 -2.9456e-01 -4.9992e-01\n",
       "[torch.FloatTensor of size 9392x1000]"
      ]
     },
     "execution_count": 96,
     "metadata": {},
     "output_type": "execute_result"
    }
   ],
   "source": [
    "tmp"
   ]
  },
  {
   "cell_type": "code",
   "execution_count": 83,
   "metadata": {
    "collapsed": false
   },
   "outputs": [
    {
     "ename": "AttributeError",
     "evalue": "'float' object has no attribute 'view'",
     "output_type": "error",
     "traceback": [
      "\u001b[0;31m---------------------------------------------------------------------------\u001b[0m",
      "\u001b[0;31mAttributeError\u001b[0m                            Traceback (most recent call last)",
      "\u001b[0;32m<ipython-input-83-0706f0478fb7>\u001b[0m in \u001b[0;36m<module>\u001b[0;34m()\u001b[0m\n\u001b[0;32m----> 1\u001b[0;31m \u001b[0mtmp\u001b[0m \u001b[0;34m=\u001b[0m \u001b[0md\u001b[0m\u001b[0;34m[\u001b[0m\u001b[0;36m0\u001b[0m\u001b[0;34m]\u001b[0m\u001b[0;34m[\u001b[0m\u001b[0;36m0\u001b[0m\u001b[0;34m]\u001b[0m\u001b[0;34m.\u001b[0m\u001b[0mview\u001b[0m\u001b[0;34m(\u001b[0m\u001b[0;36m1\u001b[0m\u001b[0;34m,\u001b[0m \u001b[0;34m-\u001b[0m\u001b[0;36m1\u001b[0m\u001b[0;34m)\u001b[0m\u001b[0;34m\u001b[0m\u001b[0m\n\u001b[0m\u001b[1;32m      2\u001b[0m \u001b[0;32mfor\u001b[0m \u001b[0mi\u001b[0m \u001b[0;32min\u001b[0m \u001b[0mrange\u001b[0m\u001b[0;34m(\u001b[0m\u001b[0;36m1\u001b[0m\u001b[0;34m,\u001b[0m \u001b[0mlen\u001b[0m\u001b[0;34m(\u001b[0m\u001b[0md\u001b[0m\u001b[0;34m)\u001b[0m\u001b[0;34m)\u001b[0m\u001b[0;34m:\u001b[0m\u001b[0;34m\u001b[0m\u001b[0m\n\u001b[1;32m      3\u001b[0m     \u001b[0mtmp\u001b[0m \u001b[0;34m=\u001b[0m \u001b[0mtorch\u001b[0m\u001b[0;34m.\u001b[0m\u001b[0mcat\u001b[0m\u001b[0;34m(\u001b[0m\u001b[0;34m(\u001b[0m\u001b[0mtmp\u001b[0m\u001b[0;34m,\u001b[0m \u001b[0md\u001b[0m\u001b[0;34m[\u001b[0m\u001b[0mi\u001b[0m\u001b[0;34m]\u001b[0m\u001b[0;34m[\u001b[0m\u001b[0;36m0\u001b[0m\u001b[0;34m]\u001b[0m\u001b[0;34m.\u001b[0m\u001b[0mview\u001b[0m\u001b[0;34m(\u001b[0m\u001b[0;36m1\u001b[0m\u001b[0;34m,\u001b[0m \u001b[0;34m-\u001b[0m\u001b[0;36m1\u001b[0m\u001b[0;34m)\u001b[0m\u001b[0;34m)\u001b[0m\u001b[0;34m,\u001b[0m \u001b[0;36m0\u001b[0m\u001b[0;34m)\u001b[0m\u001b[0;34m\u001b[0m\u001b[0m\n\u001b[1;32m      4\u001b[0m \u001b[0mtmp\u001b[0m\u001b[0;34m\u001b[0m\u001b[0m\n",
      "\u001b[0;31mAttributeError\u001b[0m: 'float' object has no attribute 'view'"
     ]
    }
   ],
   "source": [
    "tmp = d[0][0].view(1, -1)\n",
    "for i in range(1, len(d)):\n",
    "    tmp = torch.cat((tmp, d[i][0].view(1, -1)), 0)\n",
    "tmp"
   ]
  },
  {
   "cell_type": "code",
   "execution_count": 66,
   "metadata": {
    "collapsed": false
   },
   "outputs": [
    {
     "data": {
      "text/plain": [
       "\n",
       " 8.8883e-23  1.4013e-45  7.8276e-23\n",
       "[torch.FloatTensor of size 1x3]"
      ]
     },
     "execution_count": 66,
     "metadata": {},
     "output_type": "execute_result"
    }
   ],
   "source": [
    "d[0][0].view(1, -1)"
   ]
  },
  {
   "cell_type": "code",
   "execution_count": 97,
   "metadata": {
    "collapsed": true
   },
   "outputs": [],
   "source": [
    "a = torch.Tensor(20, 4)"
   ]
  },
  {
   "cell_type": "code",
   "execution_count": 99,
   "metadata": {
    "collapsed": true
   },
   "outputs": [],
   "source": [
    "b = a[0:10,]"
   ]
  },
  {
   "cell_type": "code",
   "execution_count": 100,
   "metadata": {
    "collapsed": false
   },
   "outputs": [
    {
     "data": {
      "text/plain": [
       "\n",
       " 0.0000e+00 -3.6893e+19 -7.8149e-22  2.0005e+00\n",
       " 3.6434e-43  0.0000e+00  0.0000e+00  0.0000e+00\n",
       " 0.0000e+00  0.0000e+00  0.0000e+00  0.0000e+00\n",
       " 0.0000e+00  0.0000e+00  0.0000e+00  0.0000e+00\n",
       " 0.0000e+00  0.0000e+00  0.0000e+00  0.0000e+00\n",
       " 0.0000e+00  0.0000e+00  0.0000e+00  0.0000e+00\n",
       " 0.0000e+00 -3.6893e+19 -7.8149e-22  2.0005e+00\n",
       " 3.5593e-43  0.0000e+00  1.2916e+26 -1.2851e+17\n",
       " 6.2487e-29  1.4013e-45  8.8666e-23  1.4013e-45\n",
       "-3.1784e+15  1.4013e-45  0.0000e+00  1.4013e-45\n",
       "[torch.FloatTensor of size 10x4]"
      ]
     },
     "execution_count": 100,
     "metadata": {},
     "output_type": "execute_result"
    }
   ],
   "source": [
    "b"
   ]
  },
  {
   "cell_type": "code",
   "execution_count": 102,
   "metadata": {
    "collapsed": true
   },
   "outputs": [],
   "source": [
    "c = a[10:,]"
   ]
  },
  {
   "cell_type": "code",
   "execution_count": 103,
   "metadata": {
    "collapsed": false
   },
   "outputs": [
    {
     "data": {
      "text/plain": [
       "\n",
       " 0.0000e+00  0.0000e+00  0.0000e+00  0.0000e+00\n",
       "-2.5641e+04  4.5863e-41  0.0000e+00  0.0000e+00\n",
       " 0.0000e+00  0.0000e+00  0.0000e+00  0.0000e+00\n",
       "-2.5641e+04  4.5863e-41 -2.5641e+04  4.5863e-41\n",
       " 0.0000e+00 -3.6893e+19 -7.8149e-22  2.0005e+00\n",
       " 3.4472e-43  0.0000e+00  0.0000e+00  0.0000e+00\n",
       " 0.0000e+00  0.0000e+00 -1.0898e+17  4.7161e-01\n",
       " 4.8357e-29  1.4013e-45  4.2008e-19  1.4013e-45\n",
       " 0.0000e+00  0.0000e+00  0.0000e+00  0.0000e+00\n",
       " 0.0000e+00  0.0000e+00  0.0000e+00  0.0000e+00\n",
       "[torch.FloatTensor of size 10x4]"
      ]
     },
     "execution_count": 103,
     "metadata": {},
     "output_type": "execute_result"
    }
   ],
   "source": [
    "c"
   ]
  },
  {
   "cell_type": "code",
   "execution_count": 104,
   "metadata": {
    "collapsed": false
   },
   "outputs": [
    {
     "data": {
      "text/plain": [
       "\n",
       " 0.0000e+00 -3.6893e+19 -7.8149e-22  2.0005e+00\n",
       " 3.6434e-43  0.0000e+00  0.0000e+00  0.0000e+00\n",
       " 0.0000e+00  0.0000e+00  0.0000e+00  0.0000e+00\n",
       " 0.0000e+00  0.0000e+00  0.0000e+00  0.0000e+00\n",
       " 0.0000e+00  0.0000e+00  0.0000e+00  0.0000e+00\n",
       " 0.0000e+00  0.0000e+00  0.0000e+00  0.0000e+00\n",
       " 0.0000e+00 -3.6893e+19 -7.8149e-22  2.0005e+00\n",
       " 3.5593e-43  0.0000e+00  1.2916e+26 -1.2851e+17\n",
       " 6.2487e-29  1.4013e-45  8.8666e-23  1.4013e-45\n",
       "-3.1784e+15  1.4013e-45  0.0000e+00  1.4013e-45\n",
       " 0.0000e+00  0.0000e+00  0.0000e+00  0.0000e+00\n",
       "-2.5641e+04  4.5863e-41  0.0000e+00  0.0000e+00\n",
       " 0.0000e+00  0.0000e+00  0.0000e+00  0.0000e+00\n",
       "-2.5641e+04  4.5863e-41 -2.5641e+04  4.5863e-41\n",
       " 0.0000e+00 -3.6893e+19 -7.8149e-22  2.0005e+00\n",
       " 3.4472e-43  0.0000e+00  0.0000e+00  0.0000e+00\n",
       " 0.0000e+00  0.0000e+00 -1.0898e+17  4.7161e-01\n",
       " 4.8357e-29  1.4013e-45  4.2008e-19  1.4013e-45\n",
       " 0.0000e+00  0.0000e+00  0.0000e+00  0.0000e+00\n",
       " 0.0000e+00  0.0000e+00  0.0000e+00  0.0000e+00\n",
       "[torch.FloatTensor of size 20x4]"
      ]
     },
     "execution_count": 104,
     "metadata": {},
     "output_type": "execute_result"
    }
   ],
   "source": [
    "a"
   ]
  },
  {
   "cell_type": "code",
   "execution_count": 105,
   "metadata": {
    "collapsed": false
   },
   "outputs": [
    {
     "data": {
      "text/plain": [
       "4.0"
      ]
     },
     "execution_count": 105,
     "metadata": {},
     "output_type": "execute_result"
    }
   ],
   "source": [
    "a = 9\n",
    "b = 2\n",
    "c = round(a/b)\n",
    "c"
   ]
  },
  {
   "cell_type": "code",
   "execution_count": 142,
   "metadata": {
    "collapsed": true
   },
   "outputs": [],
   "source": [
    "a = []"
   ]
  },
  {
   "cell_type": "code",
   "execution_count": 140,
   "metadata": {
    "collapsed": true
   },
   "outputs": [],
   "source": [
    "b = torch.Tensor([1,2,3])"
   ]
  },
  {
   "cell_type": "code",
   "execution_count": 143,
   "metadata": {
    "collapsed": true
   },
   "outputs": [],
   "source": [
    "for i in range(10):\n",
    "    a.append(b)"
   ]
  },
  {
   "cell_type": "code",
   "execution_count": 137,
   "metadata": {
    "collapsed": true
   },
   "outputs": [],
   "source": [
    "c = torch.cat(a, 0)"
   ]
  },
  {
   "cell_type": "code",
   "execution_count": 148,
   "metadata": {
    "collapsed": false
   },
   "outputs": [
    {
     "data": {
      "text/plain": [
       "torch.Size([10, 3])"
      ]
     },
     "execution_count": 148,
     "metadata": {},
     "output_type": "execute_result"
    }
   ],
   "source": [
    "c.size()"
   ]
  },
  {
   "cell_type": "code",
   "execution_count": 1,
   "metadata": {
    "collapsed": false
   },
   "outputs": [],
   "source": [
    "import fmin"
   ]
  },
  {
   "cell_type": "code",
   "execution_count": 2,
   "metadata": {
    "collapsed": true
   },
   "outputs": [],
   "source": [
    "import Params"
   ]
  },
  {
   "cell_type": "code",
   "execution_count": 3,
   "metadata": {
    "collapsed": false
   },
   "outputs": [],
   "source": [
    "opt = Params.Params()"
   ]
  },
  {
   "cell_type": "code",
   "execution_count": null,
   "metadata": {
    "collapsed": true
   },
   "outputs": [],
   "source": []
  },
  {
   "cell_type": "code",
   "execution_count": 4,
   "metadata": {
    "collapsed": false
   },
   "outputs": [
    {
     "data": {
      "text/plain": [
       "0.02"
      ]
     },
     "execution_count": 4,
     "metadata": {},
     "output_type": "execute_result"
    }
   ],
   "source": [
    "opt.lr"
   ]
  },
  {
   "cell_type": "code",
   "execution_count": 5,
   "metadata": {
    "collapsed": true
   },
   "outputs": [],
   "source": [
    "pas = {'tgt': './data/data_scores', 'src_sys': './data/hidden_sys', 'src_ref': './data/hidden_ref', 'batch_size': 50, 'dim2': 100, 'dim3': None, 'lr': 0.2, 'act_func': 'Tanh', 'model': './model/LinearModel', 'type': 'linear'}"
   ]
  },
  {
   "cell_type": "code",
   "execution_count": 6,
   "metadata": {
    "collapsed": false
   },
   "outputs": [],
   "source": [
    "opt.set_params(pas)"
   ]
  },
  {
   "cell_type": "code",
   "execution_count": 7,
   "metadata": {
    "collapsed": false
   },
   "outputs": [
    {
     "data": {
      "text/plain": [
       "'./model/LinearModel'"
      ]
     },
     "execution_count": 7,
     "metadata": {},
     "output_type": "execute_result"
    }
   ],
   "source": [
    "opt.model"
   ]
  },
  {
   "cell_type": "code",
   "execution_count": 8,
   "metadata": {
    "collapsed": false,
    "scrolled": true
   },
   "outputs": [
    {
     "name": "stdout",
     "output_type": "stream",
     "text": [
      "('tgt', './data/data_scores')\n",
      "('src_sys', './data/hidden_sys')\n",
      "('src_ref', './data/hidden_ref')\n",
      "('eps', 1e-08)\n",
      "('batch_size', 50)\n",
      "('dim2', 100)\n",
      "('dim3', None)\n",
      "('lr', 0.2)\n",
      "('act_func', 'Tanh')\n",
      "('model', './model/LinearModel')\n",
      "('weight_decay', 0)\n",
      "('type', 'linear')\n",
      "('drop_out_rate', 0.5)\n",
      "('momentum', 0.1)\n",
      "('out', './test_data/pred')\n",
      "BasicLinear (\n",
      "  (layers): Sequential (\n",
      "    (fc1): Linear (1000 -> 100)\n",
      "    (Tanh1): Tanh ()\n",
      "    (bn): BatchNorm1d(100, eps=1e-05, momentum=0.1, affine=True)\n",
      "    (drop_out): Dropout (p = 0.5)\n",
      "    (fc2): Linear (100 -> 1)\n",
      "  )\n",
      ")\n",
      "number of batch is 187\n",
      "evaluate 0\n",
      "the correlation coeffizient is : 0.214035\n",
      "evaluate 1\n",
      "the correlation coeffizient is : 0.189037\n",
      "evaluate 2\n",
      "the correlation coeffizient is : 0.098968\n",
      "evaluate 3\n",
      "the correlation coeffizient is : 0.090854\n",
      "evaluate 4\n",
      "the correlation coeffizient is : 0.116031\n",
      "evaluate 5\n",
      "the correlation coeffizient is : 0.141763\n",
      "evaluate 6\n",
      "the correlation coeffizient is : 0.265931\n",
      "evaluate 7\n",
      "the correlation coeffizient is : -0.015593\n",
      "evaluate 8\n",
      "the correlation coeffizient is : 0.010338\n",
      "evaluate 9\n",
      "the correlation coeffizient is : 0.188151\n",
      "evaluate 10\n",
      "the correlation coeffizient is : -0.108323\n",
      "evaluate 11\n",
      "the correlation coeffizient is : -0.078998\n",
      "evaluate 12\n",
      "the correlation coeffizient is : 0.061160\n",
      "evaluate 13\n",
      "the correlation coeffizient is : 0.243949\n",
      "evaluate 14\n",
      "the correlation coeffizient is : -0.093807\n",
      "evaluate 15\n",
      "the correlation coeffizient is : 0.079700\n",
      "evaluate 16\n",
      "the correlation coeffizient is : 0.020397\n",
      "evaluate 17\n",
      "the correlation coeffizient is : 0.074233\n",
      "evaluate 18\n",
      "the correlation coeffizient is : -0.085369\n",
      "evaluate 19\n",
      "the correlation coeffizient is : -0.129834\n",
      "evaluate 20\n",
      "the correlation coeffizient is : -0.043298\n",
      "evaluate 21\n",
      "the correlation coeffizient is : -0.062201\n",
      "evaluate 22\n",
      "the correlation coeffizient is : -0.000713\n",
      "evaluate 23\n",
      "the correlation coeffizient is : 0.094669\n",
      "evaluate 24\n",
      "the correlation coeffizient is : -0.114544\n",
      "evaluate 25\n",
      "the correlation coeffizient is : 0.198425\n",
      "evaluate 26\n",
      "the correlation coeffizient is : 0.068902\n",
      "evaluate 27\n",
      "the correlation coeffizient is : -0.110975\n",
      "evaluate 28\n",
      "the correlation coeffizient is : -0.105027\n",
      "evaluate 29\n",
      "the correlation coeffizient is : 0.027133\n",
      "evaluate 30\n",
      "the correlation coeffizient is : 0.001429\n",
      "evaluate 31\n",
      "the correlation coeffizient is : -0.018208\n",
      "evaluate 32\n",
      "the correlation coeffizient is : -0.096682\n",
      "evaluate 33\n",
      "the correlation coeffizient is : 0.199558\n",
      "evaluate 34\n",
      "the correlation coeffizient is : -0.213965\n",
      "evaluate 35\n",
      "the correlation coeffizient is : 0.046784\n",
      "evaluate 36\n",
      "the correlation coeffizient is : 0.040793\n",
      "evaluate 37\n",
      "the correlation coeffizient is : 0.016305\n",
      "evaluate 38\n",
      "the correlation coeffizient is : 0.065511\n",
      "evaluate 39\n",
      "the correlation coeffizient is : 0.029398\n",
      "evaluate 40\n",
      "the correlation coeffizient is : 0.069794\n",
      "evaluate 41\n",
      "the correlation coeffizient is : 0.026749\n",
      "evaluate 42\n",
      "the correlation coeffizient is : 0.291919\n",
      "evaluate 43\n",
      "the correlation coeffizient is : 0.210261\n",
      "evaluate 44\n",
      "the correlation coeffizient is : -0.116014\n",
      "evaluate 45\n",
      "the correlation coeffizient is : -0.232036\n",
      "evaluate 46\n",
      "the correlation coeffizient is : 0.346069\n",
      "evaluate 47\n",
      "the correlation coeffizient is : 0.142012\n",
      "evaluate 48\n",
      "the correlation coeffizient is : 0.109631\n",
      "evaluate 49\n",
      "the correlation coeffizient is : 0.266920\n",
      "evaluate 50\n",
      "the correlation coeffizient is : -0.062107\n",
      "evaluate 51\n",
      "the correlation coeffizient is : -0.182860\n",
      "evaluate 52\n",
      "the correlation coeffizient is : 0.017171\n",
      "evaluate 53\n",
      "the correlation coeffizient is : -0.089055\n",
      "evaluate 54\n",
      "the correlation coeffizient is : -0.273513\n",
      "evaluate 55\n",
      "the correlation coeffizient is : 0.042290\n",
      "evaluate 56\n",
      "the correlation coeffizient is : -0.175426\n",
      "evaluate 57\n",
      "the correlation coeffizient is : -0.070517\n",
      "evaluate 58\n",
      "the correlation coeffizient is : 0.189582\n",
      "evaluate 59\n",
      "the correlation coeffizient is : 0.073289\n",
      "evaluate 60\n",
      "the correlation coeffizient is : -0.018781\n",
      "evaluate 61\n",
      "the correlation coeffizient is : -0.067583\n",
      "evaluate 62\n",
      "the correlation coeffizient is : -0.004985\n",
      "evaluate 63\n",
      "the correlation coeffizient is : 0.094718\n",
      "evaluate 64\n",
      "the correlation coeffizient is : 0.159395\n",
      "evaluate 65\n",
      "the correlation coeffizient is : 0.235108\n",
      "evaluate 66\n",
      "the correlation coeffizient is : 0.065039\n",
      "evaluate 67\n",
      "the correlation coeffizient is : -0.147484\n",
      "evaluate 68\n",
      "the correlation coeffizient is : -0.168401\n",
      "evaluate 69\n",
      "the correlation coeffizient is : 0.146073\n",
      "evaluate 70\n",
      "the correlation coeffizient is : 0.108022\n",
      "evaluate 71\n",
      "the correlation coeffizient is : -0.149295\n",
      "evaluate 72\n",
      "the correlation coeffizient is : 0.059391\n",
      "evaluate 73\n",
      "the correlation coeffizient is : -0.107759\n",
      "evaluate 74\n",
      "the correlation coeffizient is : -0.145899\n",
      "evaluate 75\n",
      "the correlation coeffizient is : -0.083894\n",
      "evaluate 76\n",
      "the correlation coeffizient is : 0.003443\n",
      "evaluate 77\n",
      "the correlation coeffizient is : 0.007175\n",
      "evaluate 78\n",
      "the correlation coeffizient is : 0.278461\n",
      "evaluate 79\n",
      "the correlation coeffizient is : 0.050798\n",
      "evaluate 80\n",
      "the correlation coeffizient is : 0.042500\n",
      "evaluate 81\n",
      "the correlation coeffizient is : 0.167767\n",
      "evaluate 82\n",
      "the correlation coeffizient is : -0.039430\n",
      "evaluate 83\n",
      "the correlation coeffizient is : -0.155775\n",
      "evaluate 84\n",
      "the correlation coeffizient is : 0.043859\n",
      "evaluate 85\n",
      "the correlation coeffizient is : -0.033797\n",
      "evaluate 86\n",
      "the correlation coeffizient is : 0.006511\n",
      "evaluate 87\n",
      "the correlation coeffizient is : 0.207924\n",
      "evaluate 88\n",
      "the correlation coeffizient is : 0.057974\n",
      "evaluate 89\n",
      "the correlation coeffizient is : 0.001363\n",
      "evaluate 90\n",
      "the correlation coeffizient is : 0.008000\n",
      "evaluate 91\n",
      "the correlation coeffizient is : 0.036801\n",
      "evaluate 92\n",
      "the correlation coeffizient is : -0.255755\n",
      "evaluate 93\n",
      "the correlation coeffizient is : 0.094109\n",
      "evaluate 94\n",
      "the correlation coeffizient is : -0.003370\n",
      "evaluate 95\n",
      "the correlation coeffizient is : 0.158253\n",
      "evaluate 96\n",
      "the correlation coeffizient is : -0.086863\n",
      "evaluate 97\n",
      "the correlation coeffizient is : 0.035039\n",
      "evaluate 98\n",
      "the correlation coeffizient is : 0.086238\n",
      "evaluate 99\n",
      "the correlation coeffizient is : -0.050387\n",
      "evaluate 100\n",
      "the correlation coeffizient is : -0.046409\n",
      "evaluate 101\n",
      "the correlation coeffizient is : -0.002264\n",
      "evaluate 102\n",
      "the correlation coeffizient is : 0.026371\n",
      "evaluate 103\n",
      "the correlation coeffizient is : -0.067225\n",
      "evaluate 104\n",
      "the correlation coeffizient is : -0.204384\n",
      "evaluate 105\n",
      "the correlation coeffizient is : 0.074754\n",
      "evaluate 106\n",
      "the correlation coeffizient is : 0.020501\n",
      "evaluate 107\n",
      "the correlation coeffizient is : -0.143798\n",
      "evaluate 108\n",
      "the correlation coeffizient is : -0.100119\n",
      "evaluate 109\n",
      "the correlation coeffizient is : 0.057338\n",
      "evaluate 110\n",
      "the correlation coeffizient is : 0.025526\n",
      "evaluate 111\n",
      "the correlation coeffizient is : -0.052171\n",
      "evaluate 112\n",
      "the correlation coeffizient is : -0.155088\n",
      "evaluate 113\n",
      "the correlation coeffizient is : 0.027718\n",
      "evaluate 114\n",
      "the correlation coeffizient is : 0.160244\n",
      "evaluate 115\n",
      "the correlation coeffizient is : 0.034283\n",
      "evaluate 116\n",
      "the correlation coeffizient is : -0.242674\n",
      "evaluate 117\n",
      "the correlation coeffizient is : 0.180089\n",
      "evaluate 118\n",
      "the correlation coeffizient is : 0.129260\n",
      "evaluate 119\n",
      "the correlation coeffizient is : 0.127382\n",
      "evaluate 120\n",
      "the correlation coeffizient is : -0.019127\n",
      "evaluate 121\n",
      "the correlation coeffizient is : -0.103634\n",
      "evaluate 122\n",
      "the correlation coeffizient is : 0.159523\n",
      "evaluate 123\n",
      "the correlation coeffizient is : -0.244523\n",
      "evaluate 124\n",
      "the correlation coeffizient is : 0.027507\n",
      "evaluate 125\n",
      "the correlation coeffizient is : -0.294892\n",
      "evaluate 126\n",
      "the correlation coeffizient is : 0.025704\n",
      "evaluate 127\n",
      "the correlation coeffizient is : 0.033664\n",
      "evaluate 128\n",
      "the correlation coeffizient is : 0.004961\n",
      "evaluate 129\n",
      "the correlation coeffizient is : -0.291115\n",
      "evaluate 130\n",
      "the correlation coeffizient is : 0.128306\n",
      "evaluate 131\n",
      "the correlation coeffizient is : -0.039024\n",
      "evaluate 132\n",
      "the correlation coeffizient is : -0.272695\n",
      "evaluate 133\n",
      "the correlation coeffizient is : -0.008877\n",
      "evaluate 134\n",
      "the correlation coeffizient is : -0.123260\n",
      "evaluate 135\n",
      "the correlation coeffizient is : -0.062535\n",
      "evaluate 136\n",
      "the correlation coeffizient is : -0.022743\n",
      "evaluate 137\n",
      "the correlation coeffizient is : -0.182018\n",
      "evaluate 138\n",
      "the correlation coeffizient is : -0.134261\n",
      "evaluate 139\n",
      "the correlation coeffizient is : -0.188040\n",
      "evaluate 140\n",
      "the correlation coeffizient is : 0.042488\n",
      "evaluate 141\n",
      "the correlation coeffizient is : 0.051547\n",
      "evaluate 142\n",
      "the correlation coeffizient is : -0.079823\n",
      "evaluate 143\n",
      "the correlation coeffizient is : -0.066595\n",
      "evaluate 144\n",
      "the correlation coeffizient is : 0.113810\n",
      "evaluate 145\n",
      "the correlation coeffizient is : -0.022958\n",
      "evaluate 146\n",
      "the correlation coeffizient is : 0.102803\n",
      "evaluate 147\n",
      "the correlation coeffizient is : -0.015422\n",
      "evaluate 148\n",
      "the correlation coeffizient is : -0.145598\n",
      "evaluate 149\n",
      "the correlation coeffizient is : 0.060796\n",
      "evaluate 150\n",
      "the correlation coeffizient is : 0.011754\n",
      "evaluate 151\n",
      "the correlation coeffizient is : 0.018730\n",
      "evaluate 152\n",
      "the correlation coeffizient is : -0.119389\n",
      "evaluate 153\n",
      "the correlation coeffizient is : 0.112440\n",
      "evaluate 154\n",
      "the correlation coeffizient is : 0.120357\n",
      "evaluate 155\n",
      "the correlation coeffizient is : 0.144683\n",
      "evaluate 156\n",
      "the correlation coeffizient is : -0.268634\n",
      "evaluate 157\n",
      "the correlation coeffizient is : -0.061018\n",
      "evaluate 158\n",
      "the correlation coeffizient is : -0.182554\n",
      "evaluate 159\n",
      "the correlation coeffizient is : -0.107951\n",
      "evaluate 160\n",
      "the correlation coeffizient is : -0.007627\n",
      "evaluate 161\n",
      "the correlation coeffizient is : -0.042210\n",
      "evaluate 162\n",
      "the correlation coeffizient is : 0.196880\n",
      "evaluate 163\n",
      "the correlation coeffizient is : 0.131638\n",
      "evaluate 164\n",
      "the correlation coeffizient is : 0.037571\n",
      "evaluate 165\n",
      "the correlation coeffizient is : 0.077169\n",
      "evaluate 166\n",
      "the correlation coeffizient is : -0.116333\n",
      "evaluate 167\n",
      "the correlation coeffizient is : 0.191994\n",
      "evaluate 168\n",
      "the correlation coeffizient is : 0.127275\n",
      "evaluate 169\n",
      "the correlation coeffizient is : -0.024852\n",
      "evaluate 170\n",
      "the correlation coeffizient is : 0.003176\n",
      "evaluate 171\n",
      "the correlation coeffizient is : 0.008559\n",
      "evaluate 172\n",
      "the correlation coeffizient is : 0.158551\n",
      "evaluate 173\n",
      "the correlation coeffizient is : 0.192141\n",
      "evaluate 174\n",
      "the correlation coeffizient is : 0.145069\n",
      "evaluate 175\n",
      "the correlation coeffizient is : -0.168688\n",
      "evaluate 176\n",
      "the correlation coeffizient is : -0.231190\n",
      "evaluate 177\n",
      "the correlation coeffizient is : 0.146940\n",
      "evaluate 178\n",
      "the correlation coeffizient is : 0.058093\n",
      "evaluate 179\n",
      "the correlation coeffizient is : -0.146983\n",
      "evaluate 180\n",
      "the correlation coeffizient is : -0.007986\n",
      "evaluate 181\n",
      "the correlation coeffizient is : 0.188577\n",
      "evaluate 182\n",
      "the correlation coeffizient is : 0.104503\n",
      "evaluate 183\n",
      "the correlation coeffizient is : 0.054310\n",
      "evaluate 184\n",
      "the correlation coeffizient is : 0.081488\n",
      "evaluate 185\n",
      "the correlation coeffizient is : 0.098012\n",
      "evaluate 186\n",
      "the correlation coeffizient is : 0.040641\n",
      "the correlation coeffizient is : 0.193911\n",
      "the correlation coeffizient is : 0.004766\n",
      "the correlation coeffizient is : -0.020333\n",
      "the correlation coeffizient is : 0.080675\n",
      "the correlation coeffizient is : 0.027978\n",
      "the correlation coeffizient is : 0.286714\n",
      "the correlation coeffizient is : -0.198553\n",
      "the correlation coeffizient is : -0.342387\n",
      "the correlation coeffizient is : 0.077020\n",
      "the correlation coeffizient is : -0.124029\n"
     ]
    },
    {
     "data": {
      "text/plain": [
       "1.0014236106794543"
      ]
     },
     "execution_count": 8,
     "metadata": {},
     "output_type": "execute_result"
    }
   ],
   "source": [
    "fmin.o_func(pas)"
   ]
  },
  {
   "cell_type": "code",
   "execution_count": 5,
   "metadata": {
    "collapsed": false
   },
   "outputs": [],
   "source": [
    "import torch"
   ]
  },
  {
   "cell_type": "code",
   "execution_count": 13,
   "metadata": {
    "collapsed": false
   },
   "outputs": [],
   "source": [
    "a = getattr(torch.nn, 'ReLU')"
   ]
  },
  {
   "cell_type": "code",
   "execution_count": 20,
   "metadata": {
    "collapsed": false
   },
   "outputs": [],
   "source": [
    "a = torch.nn.ReLU"
   ]
  },
  {
   "cell_type": "code",
   "execution_count": 21,
   "metadata": {
    "collapsed": false
   },
   "outputs": [
    {
     "data": {
      "text/plain": [
       "torch.nn.modules.activation.ReLU"
      ]
     },
     "execution_count": 21,
     "metadata": {},
     "output_type": "execute_result"
    }
   ],
   "source": [
    "a"
   ]
  },
  {
   "cell_type": "code",
   "execution_count": 1,
   "metadata": {
    "collapsed": false
   },
   "outputs": [],
   "source": [
    "import fmin"
   ]
  },
  {
   "cell_type": "code",
   "execution_count": 2,
   "metadata": {
    "collapsed": false
   },
   "outputs": [
    {
     "ename": "TypeError",
     "evalue": "'generator' object has no attribute '__getitem__'",
     "output_type": "error",
     "traceback": [
      "\u001b[0;31m---------------------------------------------------------------------------\u001b[0m",
      "\u001b[0;31mTypeError\u001b[0m                                 Traceback (most recent call last)",
      "\u001b[0;32m<ipython-input-2-f0aeffc33b9f>\u001b[0m in \u001b[0;36m<module>\u001b[0;34m()\u001b[0m\n\u001b[0;32m----> 1\u001b[0;31m \u001b[0mfmin\u001b[0m\u001b[0;34m.\u001b[0m\u001b[0mget_best\u001b[0m\u001b[0;34m(\u001b[0m\u001b[0;34m)\u001b[0m\u001b[0;34m\u001b[0m\u001b[0m\n\u001b[0m",
      "\u001b[0;32m/Users/ihuangyiran/Documents/Workplace_Python/MasterArbeit/fmin.py\u001b[0m in \u001b[0;36mget_best\u001b[0;34m()\u001b[0m\n\u001b[1;32m     75\u001b[0m             \u001b[0mspace\u001b[0m \u001b[0;34m=\u001b[0m \u001b[0mli_space\u001b[0m\u001b[0;34m,\u001b[0m\u001b[0;34m\u001b[0m\u001b[0m\n\u001b[1;32m     76\u001b[0m             \u001b[0malgo\u001b[0m \u001b[0;34m=\u001b[0m \u001b[0moptim_algo\u001b[0m\u001b[0;34m,\u001b[0m\u001b[0;34m\u001b[0m\u001b[0m\n\u001b[0;32m---> 77\u001b[0;31m             max_evals = 2)\n\u001b[0m\u001b[1;32m     78\u001b[0m     \u001b[0;32mreturn\u001b[0m \u001b[0mbest\u001b[0m\u001b[0;34m\u001b[0m\u001b[0m\n\u001b[1;32m     79\u001b[0m \u001b[0;34m\u001b[0m\u001b[0m\n",
      "\u001b[0;32m/Users/ihuangyiran/anaconda2/envs/py27/lib/python2.7/site-packages/hyperopt/fmin.pyc\u001b[0m in \u001b[0;36mfmin\u001b[0;34m(fn, space, algo, max_evals, trials, rstate, allow_trials_fmin, pass_expr_memo_ctrl, catch_eval_exceptions, verbose, return_argmin)\u001b[0m\n\u001b[1;32m    312\u001b[0m \u001b[0;34m\u001b[0m\u001b[0m\n\u001b[1;32m    313\u001b[0m     domain = base.Domain(fn, space,\n\u001b[0;32m--> 314\u001b[0;31m                          pass_expr_memo_ctrl=pass_expr_memo_ctrl)\n\u001b[0m\u001b[1;32m    315\u001b[0m \u001b[0;34m\u001b[0m\u001b[0m\n\u001b[1;32m    316\u001b[0m     rval = FMinIter(algo, domain, trials, max_evals=max_evals,\n",
      "\u001b[0;32m/Users/ihuangyiran/anaconda2/envs/py27/lib/python2.7/site-packages/hyperopt/base.pyc\u001b[0m in \u001b[0;36m__init__\u001b[0;34m(self, fn, expr, workdir, pass_expr_memo_ctrl, name, loss_target)\u001b[0m\n\u001b[1;32m    784\u001b[0m         \u001b[0mbefore\u001b[0m \u001b[0;34m=\u001b[0m \u001b[0mpyll\u001b[0m\u001b[0;34m.\u001b[0m\u001b[0mdfs\u001b[0m\u001b[0;34m(\u001b[0m\u001b[0mself\u001b[0m\u001b[0;34m.\u001b[0m\u001b[0mexpr\u001b[0m\u001b[0;34m)\u001b[0m\u001b[0;34m\u001b[0m\u001b[0m\n\u001b[1;32m    785\u001b[0m         \u001b[0;31m# -- raises exception if expr contains cycles\u001b[0m\u001b[0;34m\u001b[0m\u001b[0;34m\u001b[0m\u001b[0m\n\u001b[0;32m--> 786\u001b[0;31m         \u001b[0mpyll\u001b[0m\u001b[0;34m.\u001b[0m\u001b[0mtoposort\u001b[0m\u001b[0;34m(\u001b[0m\u001b[0mself\u001b[0m\u001b[0;34m.\u001b[0m\u001b[0mexpr\u001b[0m\u001b[0;34m)\u001b[0m\u001b[0;34m\u001b[0m\u001b[0m\n\u001b[0m\u001b[1;32m    787\u001b[0m         \u001b[0mvh\u001b[0m \u001b[0;34m=\u001b[0m \u001b[0mself\u001b[0m\u001b[0;34m.\u001b[0m\u001b[0mvh\u001b[0m \u001b[0;34m=\u001b[0m \u001b[0mVectorizeHelper\u001b[0m\u001b[0;34m(\u001b[0m\u001b[0mself\u001b[0m\u001b[0;34m.\u001b[0m\u001b[0mexpr\u001b[0m\u001b[0;34m,\u001b[0m \u001b[0mself\u001b[0m\u001b[0;34m.\u001b[0m\u001b[0ms_new_ids\u001b[0m\u001b[0;34m)\u001b[0m\u001b[0;34m\u001b[0m\u001b[0m\n\u001b[1;32m    788\u001b[0m         \u001b[0;31m# -- raises exception if v_expr contains cycles\u001b[0m\u001b[0;34m\u001b[0m\u001b[0;34m\u001b[0m\u001b[0m\n",
      "\u001b[0;32m/Users/ihuangyiran/anaconda2/envs/py27/lib/python2.7/site-packages/hyperopt/pyll/base.pyc\u001b[0m in \u001b[0;36mtoposort\u001b[0;34m(expr)\u001b[0m\n\u001b[1;32m    713\u001b[0m         \u001b[0mG\u001b[0m\u001b[0;34m.\u001b[0m\u001b[0madd_edges_from\u001b[0m\u001b[0;34m(\u001b[0m\u001b[0;34m[\u001b[0m\u001b[0;34m(\u001b[0m\u001b[0mn_in\u001b[0m\u001b[0;34m,\u001b[0m \u001b[0mnode\u001b[0m\u001b[0;34m)\u001b[0m \u001b[0;32mfor\u001b[0m \u001b[0mn_in\u001b[0m \u001b[0;32min\u001b[0m \u001b[0mnode\u001b[0m\u001b[0;34m.\u001b[0m\u001b[0minputs\u001b[0m\u001b[0;34m(\u001b[0m\u001b[0;34m)\u001b[0m\u001b[0;34m]\u001b[0m\u001b[0;34m)\u001b[0m\u001b[0;34m\u001b[0m\u001b[0m\n\u001b[1;32m    714\u001b[0m     \u001b[0morder\u001b[0m \u001b[0;34m=\u001b[0m \u001b[0mnx\u001b[0m\u001b[0;34m.\u001b[0m\u001b[0mtopological_sort\u001b[0m\u001b[0;34m(\u001b[0m\u001b[0mG\u001b[0m\u001b[0;34m)\u001b[0m\u001b[0;34m\u001b[0m\u001b[0m\n\u001b[0;32m--> 715\u001b[0;31m     \u001b[0;32massert\u001b[0m \u001b[0morder\u001b[0m\u001b[0;34m[\u001b[0m\u001b[0;34m-\u001b[0m\u001b[0;36m1\u001b[0m\u001b[0;34m]\u001b[0m \u001b[0;34m==\u001b[0m \u001b[0mexpr\u001b[0m\u001b[0;34m\u001b[0m\u001b[0m\n\u001b[0m\u001b[1;32m    716\u001b[0m     \u001b[0;32mreturn\u001b[0m \u001b[0morder\u001b[0m\u001b[0;34m\u001b[0m\u001b[0m\n\u001b[1;32m    717\u001b[0m \u001b[0;34m\u001b[0m\u001b[0m\n",
      "\u001b[0;31mTypeError\u001b[0m: 'generator' object has no attribute '__getitem__'"
     ]
    }
   ],
   "source": [
    "fmin.get_best()"
   ]
  },
  {
   "cell_type": "code",
   "execution_count": 8,
   "metadata": {
    "collapsed": false
   },
   "outputs": [
    {
     "data": {
      "text/plain": [
       "3.2"
      ]
     },
     "execution_count": 8,
     "metadata": {},
     "output_type": "execute_result"
    }
   ],
   "source": [
    "32/10.0"
   ]
  },
  {
   "cell_type": "code",
   "execution_count": null,
   "metadata": {
    "collapsed": true
   },
   "outputs": [],
   "source": []
  }
 ],
 "metadata": {
  "kernelspec": {
   "display_name": "Py27",
   "language": "python",
   "name": "python2"
  },
  "language_info": {
   "codemirror_mode": {
    "name": "ipython",
    "version": 2
   },
   "file_extension": ".py",
   "mimetype": "text/x-python",
   "name": "python",
   "nbconvert_exporter": "python",
   "pygments_lexer": "ipython2",
   "version": "2.7.13"
  }
 },
 "nbformat": 4,
 "nbformat_minor": 2
}
