{
 "cells": [
  {
   "cell_type": "markdown",
   "metadata": {},
   "source": [
    "Devide the dataset into training data and valuation data and test data:<br>\n",
    "The target set here are hidden value and score"
   ]
  },
  {
   "cell_type": "code",
   "execution_count": 147,
   "metadata": {
    "collapsed": true
   },
   "outputs": [],
   "source": [
    "src_sys = '../data/MasterArbeit/full_hidden_sys'\n",
    "src_ref = '../data/MasterArbeit/test1.5/last_hidden_sys'\n",
    "tgt = '../data/MasterArbeit/data/data_scores'"
   ]
  },
  {
   "cell_type": "code",
   "execution_count": null,
   "metadata": {
    "collapsed": true
   },
   "outputs": [],
   "source": []
  },
  {
   "cell_type": "code",
   "execution_count": 148,
   "metadata": {
    "collapsed": true
   },
   "outputs": [],
   "source": [
    "## read hidden value\n",
    "import numpy\n",
    "import torch"
   ]
  },
  {
   "cell_type": "code",
   "execution_count": null,
   "metadata": {
    "collapsed": false
   },
   "outputs": [
    {
     "name": "stdout",
     "output_type": "stream",
     "text": [
      "9392\n"
     ]
    }
   ],
   "source": [
    "with file(src_sys) as fi:\n",
    "    data_sys_out = torch.from_numpy(numpy.load(fi))\n",
    "print(len(data_sys_out))"
   ]
  },
  {
   "cell_type": "code",
   "execution_count": null,
   "metadata": {
    "collapsed": false
   },
   "outputs": [],
   "source": [
    "with file(src_ref) as fi:\n",
    "    data_ref = torch.from_numpy(numpy.load(fi))\n",
    "print(len(data_ref))"
   ]
  },
  {
   "cell_type": "code",
   "execution_count": null,
   "metadata": {
    "collapsed": false
   },
   "outputs": [],
   "source": [
    "data_scores = []\n",
    "with open(tgt) as fi:\n",
    "    for item in fi:\n",
    "        data_scores.append(item)\n",
    "print(len(data_scores))"
   ]
  },
  {
   "cell_type": "code",
   "execution_count": null,
   "metadata": {
    "collapsed": false
   },
   "outputs": [],
   "source": [
    "data_sys_out[50]"
   ]
  },
  {
   "cell_type": "code",
   "execution_count": null,
   "metadata": {
    "collapsed": false
   },
   "outputs": [],
   "source": [
    "data_ref[50]"
   ]
  },
  {
   "cell_type": "code",
   "execution_count": 22,
   "metadata": {
    "collapsed": true
   },
   "outputs": [],
   "source": [
    "# set the ratio\n",
    "sep1 = int(round(len(data_sys_out)*0.8))\n",
    "sep2 = int(round(len(data_sys_out)*0.9))\n",
    "end = len(data_sys_out) - 1"
   ]
  },
  {
   "cell_type": "code",
   "execution_count": 23,
   "metadata": {
    "collapsed": true
   },
   "outputs": [],
   "source": [
    "# departure the data"
   ]
  },
  {
   "cell_type": "code",
   "execution_count": 24,
   "metadata": {
    "collapsed": true
   },
   "outputs": [],
   "source": [
    "train_sys_out = data_sys_out[0:sep1]\n",
    "train_ref = data_ref[0:sep1]\n",
    "train_scores = data_scores[0:sep1]"
   ]
  },
  {
   "cell_type": "code",
   "execution_count": 25,
   "metadata": {
    "collapsed": true
   },
   "outputs": [],
   "source": [
    "val_sys_out = data_sys_out[sep1+1:sep2]\n",
    "val_ref = data_ref[sep1+1:sep2]\n",
    "val_scores = data_scores[sep1+1:sep2]"
   ]
  },
  {
   "cell_type": "code",
   "execution_count": 26,
   "metadata": {
    "collapsed": true
   },
   "outputs": [],
   "source": [
    "test_sys_out = data_sys_out[sep2+1:end]\n",
    "test_ref = data_ref[sep2+1:end]\n",
    "test_scores = data_scores[sep2+1:end]"
   ]
  },
  {
   "cell_type": "code",
   "execution_count": 27,
   "metadata": {
    "collapsed": true
   },
   "outputs": [],
   "source": [
    "out_train_sys_hidden = '../data/MasterArbeit/test1.5/train_sys_hidden'\n",
    "out_train_ref_hidden = '../data/MasterArbeit/test1.5/train_ref_hidden'\n",
    "out_train_scores = '../data/MasterArbeit/test1.5/train_scores'\n",
    "\n",
    "out_val_sys_hidden = '../data/MasterArbeit/test1.5/val_sys_hidden'\n",
    "out_val_ref_hidden = '../data/MasterArbeit/test1.5/val_ref_hidden'\n",
    "out_val_scores = '../data/MasterArbeit/test1.5/val_scores'\n",
    "\n",
    "out_test_sys_hidden = '../data/MasterArbeit/test1.5/test_sys_hidden'\n",
    "out_test_ref_hidden = '../data/MasterArbeit/test1.5/test_ref_hidden'\n",
    "out_test_scores = '../data/MasterArbeit/test1.5/test_scores'"
   ]
  },
  {
   "cell_type": "code",
   "execution_count": 28,
   "metadata": {
    "collapsed": true
   },
   "outputs": [],
   "source": [
    "def write_numpy(src, tgt):\n",
    "    with open(tgt,'w') as fi:\n",
    "        tmp = src.numpy()\n",
    "        numpy.save(fi, tmp)\n",
    "def write_data(filename, li):\n",
    "    with open(filename, 'w') as fi:\n",
    "        for line in li:\n",
    "            fi.write(line)"
   ]
  },
  {
   "cell_type": "code",
   "execution_count": 29,
   "metadata": {
    "collapsed": true
   },
   "outputs": [],
   "source": [
    "write_numpy(train_sys_out, out_train_sys_hidden)\n",
    "write_numpy(train_ref, out_train_ref_hidden)\n",
    "write_numpy(val_sys_out, out_val_sys_hidden)\n",
    "write_numpy(val_ref, out_val_ref_hidden)\n",
    "write_numpy(test_sys_out, out_test_sys_hidden)\n",
    "write_numpy(test_ref, out_test_ref_hidden)"
   ]
  },
  {
   "cell_type": "code",
   "execution_count": 30,
   "metadata": {
    "collapsed": true
   },
   "outputs": [],
   "source": [
    "write_data(out_train_scores, train_scores)\n",
    "write_data(out_val_scores, val_scores)\n",
    "write_data(out_test_scores, test_scores)"
   ]
  },
  {
   "cell_type": "markdown",
   "metadata": {
    "collapsed": true
   },
   "source": [
    "the original set is too large. try to devide it into small sets."
   ]
  },
  {
   "cell_type": "code",
   "execution_count": 12,
   "metadata": {
    "collapsed": true
   },
   "outputs": [],
   "source": [
    "import math"
   ]
  },
  {
   "cell_type": "code",
   "execution_count": 6,
   "metadata": {
    "collapsed": true
   },
   "outputs": [],
   "source": [
    "sys = \"../data/MasterArbeit/data2/pred_prepronc\"\n",
    "ref = \"../data/MasterArbeit/data2/ref_prepronc\"\n",
    "src = \"../data/MasterArbeit/data2/src_prepronc\"\n",
    "tgt = \"../data/MasterArbeit/data2/record_prepronc_clean\""
   ]
  },
  {
   "cell_type": "code",
   "execution_count": 2,
   "metadata": {
    "collapsed": false
   },
   "outputs": [
    {
     "name": "stdout",
     "output_type": "stream",
     "text": [
      "254074\n"
     ]
    }
   ],
   "source": [
    "data_sys = []\n",
    "with open(sys) as fi:\n",
    "    for item in fi:\n",
    "        data_sys.append(item)\n",
    "print(len(data_sys))"
   ]
  },
  {
   "cell_type": "code",
   "execution_count": 3,
   "metadata": {
    "collapsed": false
   },
   "outputs": [
    {
     "name": "stdout",
     "output_type": "stream",
     "text": [
      "254074\n"
     ]
    }
   ],
   "source": [
    "data_ref = []\n",
    "with open(ref) as fi:\n",
    "    for item in fi:\n",
    "        data_ref.append(item)\n",
    "print(len(data_ref))"
   ]
  },
  {
   "cell_type": "code",
   "execution_count": 4,
   "metadata": {
    "collapsed": false
   },
   "outputs": [
    {
     "name": "stdout",
     "output_type": "stream",
     "text": [
      "254074\n"
     ]
    }
   ],
   "source": [
    "data_src = []\n",
    "with open(src) as fi:\n",
    "    for item in fi:\n",
    "        data_src.append(item)\n",
    "print(len(data_src))"
   ]
  },
  {
   "cell_type": "code",
   "execution_count": 7,
   "metadata": {
    "collapsed": false
   },
   "outputs": [
    {
     "name": "stdout",
     "output_type": "stream",
     "text": [
      "254074\n"
     ]
    }
   ],
   "source": [
    "data_scores = []\n",
    "with open(tgt) as fi:\n",
    "    for item in fi:\n",
    "        data_scores.append(item)\n",
    "print(len(data_scores))"
   ]
  },
  {
   "cell_type": "code",
   "execution_count": 19,
   "metadata": {
    "collapsed": true
   },
   "outputs": [],
   "source": [
    "def write_data(filename, li):\n",
    "    with open(filename, 'w') as fi:\n",
    "        for line in li:\n",
    "            fi.write(line)"
   ]
  },
  {
   "cell_type": "code",
   "execution_count": 16,
   "metadata": {
    "collapsed": false
   },
   "outputs": [
    {
     "data": {
      "text/plain": [
       "25408"
      ]
     },
     "execution_count": 16,
     "metadata": {},
     "output_type": "execute_result"
    }
   ],
   "source": [
    "num_block = 10\n",
    "num_sent = len(data_sys)\n",
    "len_block = int(math.ceil(num_sent*1.0/num_block))\n",
    "len_block"
   ]
  },
  {
   "cell_type": "code",
   "execution_count": 21,
   "metadata": {
    "collapsed": true
   },
   "outputs": [],
   "source": [
    "for i in range(num_block):\n",
    "    start = i * len_block\n",
    "    if (i+1)*len_block > num_sent:\n",
    "        end = num_sent\n",
    "    else:\n",
    "        end = (i+1) * len_block \n",
    "    filename_src = \"../data/MasterArbeit/data2/src_prepronc\"+str(i+1)\n",
    "    filename_sys = \"../data/MasterArbeit/data2/sys_prepronc\"+str(i+1)\n",
    "    filename_ref = \"../data/MasterArbeit/data2/ref_prepronc\"+str(i+1)\n",
    "    filename_scores = \"../data/MasterArbeit/data2/record_prepronc_cleaned\"+str(i+1)\n",
    "    write_data(filename_src, data_src[start:end])\n",
    "    write_data(filename_sys, data_sys[start:end])\n",
    "    write_data(filename_ref, data_ref[start:end])\n",
    "    write_data(filename_scores, tgt[start:end])"
   ]
  },
  {
   "cell_type": "code",
   "execution_count": null,
   "metadata": {
    "collapsed": true
   },
   "outputs": [],
   "source": []
  }
 ],
 "metadata": {
  "kernelspec": {
   "display_name": "Py27",
   "language": "python",
   "name": "python2"
  },
  "language_info": {
   "codemirror_mode": {
    "name": "ipython",
    "version": 2
   },
   "file_extension": ".py",
   "mimetype": "text/x-python",
   "name": "python",
   "nbconvert_exporter": "python",
   "pygments_lexer": "ipython2",
   "version": "2.7.13"
  }
 },
 "nbformat": 4,
 "nbformat_minor": 2
}
